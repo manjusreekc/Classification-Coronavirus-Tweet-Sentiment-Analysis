{
  "nbformat": 4,
  "nbformat_minor": 0,
  "metadata": {
    "kernelspec": {
      "display_name": "Python 3",
      "language": "python",
      "name": "python3"
    },
    "language_info": {
      "codemirror_mode": {
        "name": "ipython",
        "version": 3
      },
      "file_extension": ".py",
      "mimetype": "text/x-python",
      "name": "python",
      "nbconvert_exporter": "python",
      "pygments_lexer": "ipython3",
      "version": "3.6.6"
    },
    "colab": {
      "name": "Manjusree K C-Coronavirus Tweet Sentiment Analysis - Capstone Project.ipynb",
      "provenance": [],
      "include_colab_link": true
    }
  },
  "cells": [
    {
      "cell_type": "markdown",
      "metadata": {
        "id": "view-in-github",
        "colab_type": "text"
      },
      "source": [
        "<a href=\"https://colab.research.google.com/github/manjusreekc/Classification-Coronavirus-Tweet-Sentiment-Analysis/blob/main/Manjusree_K_C_Coronavirus_Tweet_Sentiment_Analysis_Capstone_Project.ipynb\" target=\"_parent\"><img src=\"https://colab.research.google.com/assets/colab-badge.svg\" alt=\"Open In Colab\"/></a>"
      ]
    },
    {
      "cell_type": "markdown",
      "metadata": {
        "id": "tOGC-qoyhJeX"
      },
      "source": [
        "# <b><u> Project Title : Sentiment Analysis : Predicting sentiment of COVID-19 tweets</u></b>"
      ]
    },
    {
      "cell_type": "markdown",
      "metadata": {
        "id": "Y06xIdG26kRF"
      },
      "source": [
        "## <b> Problem Description </b>\n",
        "\n",
        "### This challenge asks you to build a classification model to predict the sentiment of COVID-19 tweets.The tweets have been pulled from Twitter and manual tagging has been done then.\n",
        "\n",
        "### The names and usernames have been given codes to avoid any privacy concerns.\n",
        "\n",
        "### You are given the following information:\n",
        "1. Location\n",
        "2. Tweet At\n",
        "3. Original Tweet\n",
        "4. Label"
      ]
    },
    {
      "cell_type": "markdown",
      "source": [
        "####Sentiment analysis studies the subjective information in an expression, that is, the opinions, appraisals, emotions, or attitudes towards a topic, person or entity. Expressions can be classified as positive, negative, or neutral.\n",
        "####Twitter is one of the most powerful social media platform in the world right now , with 360 million monthly active users and around 500 million tweets sent each day. It is used every day by people to express opinions about different topics, such as products, movies, music, politicians, events, social events, among others.\n",
        "\n",
        "####Coronavirus disease (COVID-19) is an infectious disease caused by the SARS-CoV-2 virus. It is a global pandemic that is still infecting millions of people around the world . In this project we will be looking at thousand of tweets made on Covid-19 from around the world and will try to predict the sentiment of each of the tweet by classifying them into three categories positive, negative and neutral."
      ],
      "metadata": {
        "id": "UK51WOVBqik2"
      }
    },
    {
      "cell_type": "markdown",
      "source": [
        "![Sentiment.jpg](data:image/jpeg;base64,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)"
      ],
      "metadata": {
        "id": "zts-hlPOsr-A"
      }
    },
    {
      "cell_type": "markdown",
      "source": [
        "##**Analyzing the dataset**"
      ],
      "metadata": {
        "id": "GZ4R9NGq3n9-"
      }
    },
    {
      "cell_type": "code",
      "source": [
        "#Libraries for data manipulation\n",
        "import pandas as pd\n",
        "import numpy as np\n",
        "#Libraries for visualization\n",
        "import matplotlib.pyplot as plt\n",
        "import seaborn as sns\n",
        "%matplotlib inline\n",
        "import plotly.graph_objects as go\n",
        "from wordcloud import WordCloud\n",
        "#Libraries to suppress warnings\n",
        "import warnings\n",
        "warnings.filterwarnings(\"ignore\")\n",
        "\n"
      ],
      "metadata": {
        "id": "_cClH7dPo-3s"
      },
      "execution_count": 41,
      "outputs": []
    },
    {
      "cell_type": "code",
      "execution_count": 42,
      "metadata": {
        "colab": {
          "base_uri": "https://localhost:8080/"
        },
        "id": "llrpSCaFBVgD",
        "outputId": "169cc040-032b-4430-f18a-c225cf885eda"
      },
      "outputs": [
        {
          "output_type": "stream",
          "name": "stdout",
          "text": [
            "Drive already mounted at /content/drive; to attempt to forcibly remount, call drive.mount(\"/content/drive\", force_remount=True).\n"
          ]
        }
      ],
      "source": [
        "#mounting drive\n",
        "from google.colab import drive\n",
        "drive.mount('/content/drive')"
      ]
    },
    {
      "cell_type": "code",
      "execution_count": 43,
      "metadata": {
        "id": "L42QykaZCZBg"
      },
      "outputs": [],
      "source": [
        "#Loading the dataset\n",
        "tweet_df=pd.read_csv('/content/drive/MyDrive/Machine learning/Corona virus sentiment/Coronavirus Tweet Sentiment Analysis/Data & Resources/Coronavirus Tweets.csv',encoding = \"ISO-8859-1\")"
      ]
    },
    {
      "cell_type": "code",
      "execution_count": 44,
      "metadata": {
        "id": "K83p-KWnBt5I"
      },
      "outputs": [],
      "source": [
        "#Creating a copy of the dataset\n",
        "df=tweet_df.copy()"
      ]
    },
    {
      "cell_type": "code",
      "source": [
        "#first look\n",
        "df.head()"
      ],
      "metadata": {
        "colab": {
          "base_uri": "https://localhost:8080/",
          "height": 206
        },
        "id": "N0aY8LJWvBee",
        "outputId": "d65a6cd3-ff76-4171-dced-e73db6583ae2"
      },
      "execution_count": 45,
      "outputs": [
        {
          "output_type": "execute_result",
          "data": {
            "text/html": [
              "\n",
              "  <div id=\"df-2a226a08-17c6-441d-80e0-cd9a766d7f2f\">\n",
              "    <div class=\"colab-df-container\">\n",
              "      <div>\n",
              "<style scoped>\n",
              "    .dataframe tbody tr th:only-of-type {\n",
              "        vertical-align: middle;\n",
              "    }\n",
              "\n",
              "    .dataframe tbody tr th {\n",
              "        vertical-align: top;\n",
              "    }\n",
              "\n",
              "    .dataframe thead th {\n",
              "        text-align: right;\n",
              "    }\n",
              "</style>\n",
              "<table border=\"1\" class=\"dataframe\">\n",
              "  <thead>\n",
              "    <tr style=\"text-align: right;\">\n",
              "      <th></th>\n",
              "      <th>UserName</th>\n",
              "      <th>ScreenName</th>\n",
              "      <th>Location</th>\n",
              "      <th>TweetAt</th>\n",
              "      <th>OriginalTweet</th>\n",
              "      <th>Sentiment</th>\n",
              "    </tr>\n",
              "  </thead>\n",
              "  <tbody>\n",
              "    <tr>\n",
              "      <th>0</th>\n",
              "      <td>3799</td>\n",
              "      <td>48751</td>\n",
              "      <td>London</td>\n",
              "      <td>16-03-2020</td>\n",
              "      <td>@MeNyrbie @Phil_Gahan @Chrisitv https://t.co/i...</td>\n",
              "      <td>Neutral</td>\n",
              "    </tr>\n",
              "    <tr>\n",
              "      <th>1</th>\n",
              "      <td>3800</td>\n",
              "      <td>48752</td>\n",
              "      <td>UK</td>\n",
              "      <td>16-03-2020</td>\n",
              "      <td>advice Talk to your neighbours family to excha...</td>\n",
              "      <td>Positive</td>\n",
              "    </tr>\n",
              "    <tr>\n",
              "      <th>2</th>\n",
              "      <td>3801</td>\n",
              "      <td>48753</td>\n",
              "      <td>Vagabonds</td>\n",
              "      <td>16-03-2020</td>\n",
              "      <td>Coronavirus Australia: Woolworths to give elde...</td>\n",
              "      <td>Positive</td>\n",
              "    </tr>\n",
              "    <tr>\n",
              "      <th>3</th>\n",
              "      <td>3802</td>\n",
              "      <td>48754</td>\n",
              "      <td>NaN</td>\n",
              "      <td>16-03-2020</td>\n",
              "      <td>My food stock is not the only one which is emp...</td>\n",
              "      <td>Positive</td>\n",
              "    </tr>\n",
              "    <tr>\n",
              "      <th>4</th>\n",
              "      <td>3803</td>\n",
              "      <td>48755</td>\n",
              "      <td>NaN</td>\n",
              "      <td>16-03-2020</td>\n",
              "      <td>Me, ready to go at supermarket during the #COV...</td>\n",
              "      <td>Extremely Negative</td>\n",
              "    </tr>\n",
              "  </tbody>\n",
              "</table>\n",
              "</div>\n",
              "      <button class=\"colab-df-convert\" onclick=\"convertToInteractive('df-2a226a08-17c6-441d-80e0-cd9a766d7f2f')\"\n",
              "              title=\"Convert this dataframe to an interactive table.\"\n",
              "              style=\"display:none;\">\n",
              "        \n",
              "  <svg xmlns=\"http://www.w3.org/2000/svg\" height=\"24px\"viewBox=\"0 0 24 24\"\n",
              "       width=\"24px\">\n",
              "    <path d=\"M0 0h24v24H0V0z\" fill=\"none\"/>\n",
              "    <path d=\"M18.56 5.44l.94 2.06.94-2.06 2.06-.94-2.06-.94-.94-2.06-.94 2.06-2.06.94zm-11 1L8.5 8.5l.94-2.06 2.06-.94-2.06-.94L8.5 2.5l-.94 2.06-2.06.94zm10 10l.94 2.06.94-2.06 2.06-.94-2.06-.94-.94-2.06-.94 2.06-2.06.94z\"/><path d=\"M17.41 7.96l-1.37-1.37c-.4-.4-.92-.59-1.43-.59-.52 0-1.04.2-1.43.59L10.3 9.45l-7.72 7.72c-.78.78-.78 2.05 0 2.83L4 21.41c.39.39.9.59 1.41.59.51 0 1.02-.2 1.41-.59l7.78-7.78 2.81-2.81c.8-.78.8-2.07 0-2.86zM5.41 20L4 18.59l7.72-7.72 1.47 1.35L5.41 20z\"/>\n",
              "  </svg>\n",
              "      </button>\n",
              "      \n",
              "  <style>\n",
              "    .colab-df-container {\n",
              "      display:flex;\n",
              "      flex-wrap:wrap;\n",
              "      gap: 12px;\n",
              "    }\n",
              "\n",
              "    .colab-df-convert {\n",
              "      background-color: #E8F0FE;\n",
              "      border: none;\n",
              "      border-radius: 50%;\n",
              "      cursor: pointer;\n",
              "      display: none;\n",
              "      fill: #1967D2;\n",
              "      height: 32px;\n",
              "      padding: 0 0 0 0;\n",
              "      width: 32px;\n",
              "    }\n",
              "\n",
              "    .colab-df-convert:hover {\n",
              "      background-color: #E2EBFA;\n",
              "      box-shadow: 0px 1px 2px rgba(60, 64, 67, 0.3), 0px 1px 3px 1px rgba(60, 64, 67, 0.15);\n",
              "      fill: #174EA6;\n",
              "    }\n",
              "\n",
              "    [theme=dark] .colab-df-convert {\n",
              "      background-color: #3B4455;\n",
              "      fill: #D2E3FC;\n",
              "    }\n",
              "\n",
              "    [theme=dark] .colab-df-convert:hover {\n",
              "      background-color: #434B5C;\n",
              "      box-shadow: 0px 1px 3px 1px rgba(0, 0, 0, 0.15);\n",
              "      filter: drop-shadow(0px 1px 2px rgba(0, 0, 0, 0.3));\n",
              "      fill: #FFFFFF;\n",
              "    }\n",
              "  </style>\n",
              "\n",
              "      <script>\n",
              "        const buttonEl =\n",
              "          document.querySelector('#df-2a226a08-17c6-441d-80e0-cd9a766d7f2f button.colab-df-convert');\n",
              "        buttonEl.style.display =\n",
              "          google.colab.kernel.accessAllowed ? 'block' : 'none';\n",
              "\n",
              "        async function convertToInteractive(key) {\n",
              "          const element = document.querySelector('#df-2a226a08-17c6-441d-80e0-cd9a766d7f2f');\n",
              "          const dataTable =\n",
              "            await google.colab.kernel.invokeFunction('convertToInteractive',\n",
              "                                                     [key], {});\n",
              "          if (!dataTable) return;\n",
              "\n",
              "          const docLinkHtml = 'Like what you see? Visit the ' +\n",
              "            '<a target=\"_blank\" href=https://colab.research.google.com/notebooks/data_table.ipynb>data table notebook</a>'\n",
              "            + ' to learn more about interactive tables.';\n",
              "          element.innerHTML = '';\n",
              "          dataTable['output_type'] = 'display_data';\n",
              "          await google.colab.output.renderOutput(dataTable, element);\n",
              "          const docLink = document.createElement('div');\n",
              "          docLink.innerHTML = docLinkHtml;\n",
              "          element.appendChild(docLink);\n",
              "        }\n",
              "      </script>\n",
              "    </div>\n",
              "  </div>\n",
              "  "
            ],
            "text/plain": [
              "   UserName  ...           Sentiment\n",
              "0      3799  ...             Neutral\n",
              "1      3800  ...            Positive\n",
              "2      3801  ...            Positive\n",
              "3      3802  ...            Positive\n",
              "4      3803  ...  Extremely Negative\n",
              "\n",
              "[5 rows x 6 columns]"
            ]
          },
          "metadata": {},
          "execution_count": 45
        }
      ]
    },
    {
      "cell_type": "code",
      "execution_count": 46,
      "metadata": {
        "colab": {
          "base_uri": "https://localhost:8080/"
        },
        "id": "p8y52adyCxPs",
        "outputId": "93fee1a9-410d-4942-b470-8a12add0fb17"
      },
      "outputs": [
        {
          "output_type": "stream",
          "name": "stdout",
          "text": [
            "<class 'pandas.core.frame.DataFrame'>\n",
            "RangeIndex: 41157 entries, 0 to 41156\n",
            "Data columns (total 6 columns):\n",
            " #   Column         Non-Null Count  Dtype \n",
            "---  ------         --------------  ----- \n",
            " 0   UserName       41157 non-null  int64 \n",
            " 1   ScreenName     41157 non-null  int64 \n",
            " 2   Location       32567 non-null  object\n",
            " 3   TweetAt        41157 non-null  object\n",
            " 4   OriginalTweet  41157 non-null  object\n",
            " 5   Sentiment      41157 non-null  object\n",
            "dtypes: int64(2), object(4)\n",
            "memory usage: 1.9+ MB\n"
          ]
        }
      ],
      "source": [
        "#Checking basic information\n",
        "df.info()"
      ]
    },
    {
      "cell_type": "code",
      "source": [
        "#Checking the shape of the dataset\n",
        "print(\"The dataset contains\",df.shape[0],\"rows\")\n",
        "print(\"The dataset contains\",df.shape[1],\"columns\")"
      ],
      "metadata": {
        "id": "wZObTLm0dd9m",
        "colab": {
          "base_uri": "https://localhost:8080/"
        },
        "outputId": "c672324d-49be-4923-d841-f77d18a19457"
      },
      "execution_count": 47,
      "outputs": [
        {
          "output_type": "stream",
          "name": "stdout",
          "text": [
            "The dataset contains 41157 rows\n",
            "The dataset contains 6 columns\n"
          ]
        }
      ]
    },
    {
      "cell_type": "code",
      "source": [
        "#Checking for duplicates\n",
        "print(\"The number of duplicates are:\",len(df[df.duplicated()]))"
      ],
      "metadata": {
        "colab": {
          "base_uri": "https://localhost:8080/"
        },
        "id": "ucIctAjDw4vG",
        "outputId": "be29c988-e5fc-41b3-932b-e8c9322107f0"
      },
      "execution_count": 48,
      "outputs": [
        {
          "output_type": "stream",
          "name": "stdout",
          "text": [
            "The number of duplicates are: 0\n"
          ]
        }
      ]
    },
    {
      "cell_type": "code",
      "execution_count": 49,
      "metadata": {
        "colab": {
          "base_uri": "https://localhost:8080/"
        },
        "id": "Elk3Dp-mC0pB",
        "outputId": "2c5765bc-613c-450c-a823-bd4935868430"
      },
      "outputs": [
        {
          "output_type": "execute_result",
          "data": {
            "text/plain": [
              "UserName            0\n",
              "ScreenName          0\n",
              "Location         8590\n",
              "TweetAt             0\n",
              "OriginalTweet       0\n",
              "Sentiment           0\n",
              "dtype: int64"
            ]
          },
          "metadata": {},
          "execution_count": 49
        }
      ],
      "source": [
        "#Getting the count of null values in all the columns\n",
        "df.isnull().sum()"
      ]
    },
    {
      "cell_type": "markdown",
      "source": [
        "####We can observe that only the column 'Location' contains null values. But we are not considering that column for sentiment analysis. Hence there is no need for null value treatment."
      ],
      "metadata": {
        "id": "8_ntxoP4xBaO"
      }
    },
    {
      "cell_type": "markdown",
      "source": [
        "####Let's create a word cloud showing the different variables in the given dataset."
      ],
      "metadata": {
        "id": "8amUnWV8yD6d"
      }
    },
    {
      "cell_type": "code",
      "source": [
        "text1 = \" \".join(title for title in df.columns)\n",
        "# Creating word_cloud with text as argument in .generate() method\n",
        "word_cloud1 = WordCloud(collocations = False, background_color = 'white').generate(text1)\n",
        "# Display the generated Word Cloud\n",
        "plt.imshow(word_cloud1, interpolation='bilinear')\n",
        "plt.axis(\"off\")\n",
        "plt.show()"
      ],
      "metadata": {
        "colab": {
          "base_uri": "https://localhost:8080/",
          "height": 198
        },
        "id": "yOZHP_g4OtL5",
        "outputId": "d3fe76fb-2883-4bcb-cdea-e022bcca6263"
      },
      "execution_count": 50,
      "outputs": [
        {
          "output_type": "display_data",
          "data": {
            "image/png": "[encoded data removed]",
            "text/plain": [
              "<Figure size 432x288 with 1 Axes>"
            ]
          },
          "metadata": {
            "needs_background": "light"
          }
        }
      ]
    },
    {
      "cell_type": "code",
      "source": [
        "#Unique number of values in each column\n",
        "df.nunique()"
      ],
      "metadata": {
        "colab": {
          "base_uri": "https://localhost:8080/"
        },
        "id": "RkQcz_ivyUC1",
        "outputId": "2e7993ff-0418-41e7-e905-174ad512f524"
      },
      "execution_count": 51,
      "outputs": [
        {
          "output_type": "execute_result",
          "data": {
            "text/plain": [
              "UserName         41157\n",
              "ScreenName       41157\n",
              "Location         12220\n",
              "TweetAt             30\n",
              "OriginalTweet    41157\n",
              "Sentiment            5\n",
              "dtype: int64"
            ]
          },
          "metadata": {},
          "execution_count": 51
        }
      ]
    },
    {
      "cell_type": "markdown",
      "source": [
        "####It is clear that screenName and UserName are unique for each observation in the given dataset. Therefore we will remove them. "
      ],
      "metadata": {
        "id": "VdWEgiFYyMYR"
      }
    },
    {
      "cell_type": "code",
      "execution_count": 52,
      "metadata": {
        "id": "WUDL3UVmf6mG"
      },
      "outputs": [],
      "source": [
        "#Drop UserName and ScreenName\n",
        "df.drop([\"UserName\",\"ScreenName\"],axis=1,inplace=True)"
      ]
    },
    {
      "cell_type": "markdown",
      "metadata": {
        "id": "PpwaUdRcfiDm"
      },
      "source": [
        "##**Target variable analysis**"
      ]
    },
    {
      "cell_type": "markdown",
      "source": [
        "####Now, let's analyze the target variable, **Sentiment**"
      ],
      "metadata": {
        "id": "gAhOOzoq4bn2"
      }
    },
    {
      "cell_type": "code",
      "execution_count": 53,
      "metadata": {
        "colab": {
          "base_uri": "https://localhost:8080/"
        },
        "id": "a53t982uf96q",
        "outputId": "e820f68c-064c-4083-8768-466daea09c20"
      },
      "outputs": [
        {
          "output_type": "execute_result",
          "data": {
            "text/plain": [
              "array(['Neutral', 'Positive', 'Extremely Negative', 'Negative',\n",
              "       'Extremely Positive'], dtype=object)"
            ]
          },
          "metadata": {},
          "execution_count": 53
        }
      ],
      "source": [
        "#Checking subcategories of target variable\n",
        "df.Sentiment.unique()"
      ]
    },
    {
      "cell_type": "markdown",
      "source": [
        "####We ave 5 subcategories for Sentiment- 'Neutral', 'Positive', 'Extremely Negative', 'Negative' and 'Extremely Positive'"
      ],
      "metadata": {
        "id": "uX6Yjd3Jy1NG"
      }
    },
    {
      "cell_type": "code",
      "source": [
        "#number of tweets in each subcategory of target variable\n",
        "df.Sentiment.value_counts()"
      ],
      "metadata": {
        "colab": {
          "base_uri": "https://localhost:8080/"
        },
        "id": "-FnbtNHEy6uI",
        "outputId": "49e88473-2f66-446e-ceb0-f6cb7ae61e09"
      },
      "execution_count": 54,
      "outputs": [
        {
          "output_type": "execute_result",
          "data": {
            "text/plain": [
              "Positive              11422\n",
              "Negative               9917\n",
              "Neutral                7713\n",
              "Extremely Positive     6624\n",
              "Extremely Negative     5481\n",
              "Name: Sentiment, dtype: int64"
            ]
          },
          "metadata": {},
          "execution_count": 54
        }
      ]
    },
    {
      "cell_type": "code",
      "source": [
        "#Setting the heigt and width of the graph\n",
        "plt.rcParams[\"figure.figsize\"]=10,10\n",
        "#Plotting the total number of tweets for each subcategory in the target variable\n",
        "sns.countplot(x=\"Sentiment\", data=df)\n",
        "plt.ylabel(\"Number of tweets\")"
      ],
      "metadata": {
        "colab": {
          "base_uri": "https://localhost:8080/",
          "height": 623
        },
        "id": "UtIqG2JEO36h",
        "outputId": "eb2ba300-3604-4c08-a7cc-b9f2ab2a6deb"
      },
      "execution_count": 55,
      "outputs": [
        {
          "output_type": "execute_result",
          "data": {
            "text/plain": [
              "Text(0, 0.5, 'Number of tweets')"
            ]
          },
          "metadata": {},
          "execution_count": 55
        },
        {
          "output_type": "display_data",
          "data": {
            "image/png": "[encoded data removed]",
            "text/plain": [
              "<Figure size 720x720 with 1 Axes>"
            ]
          },
          "metadata": {
            "needs_background": "light"
          }
        }
      ]
    },
    {
      "cell_type": "markdown",
      "source": [
        "##**Converting Sentiment**"
      ],
      "metadata": {
        "id": "o_tGUqGf0YMt"
      }
    },
    {
      "cell_type": "markdown",
      "source": [
        "####We will convert this 5-class classification problem into a 3-class classification problem by merging Extremely Positive tweets with positive tweets and Extremely Negative tweets with negative tweets."
      ],
      "metadata": {
        "id": "EFye-akvzJTm"
      }
    },
    {
      "cell_type": "code",
      "execution_count": 56,
      "metadata": {
        "id": "Oa0oRRRVagKu"
      },
      "outputs": [],
      "source": [
        "def Sentiment_Grouping(sentiment):\n",
        "  if sentiment == \"Extremely Positive\":\n",
        "    return \"Positive\"\n",
        "  elif sentiment == \"Extremely Negative\":\n",
        "    return \"Negative\"\n",
        "  else:\n",
        "    return sentiment"
      ]
    },
    {
      "cell_type": "code",
      "execution_count": 57,
      "metadata": {
        "id": "jwPnDN0t0l4U"
      },
      "outputs": [],
      "source": [
        "#Apply the Sentiment_Grouping function on the Sentiment column\n",
        "df[\"Sentiment\"] = df[\"Sentiment\"].apply(Sentiment_Grouping)"
      ]
    },
    {
      "cell_type": "code",
      "execution_count": 58,
      "metadata": {
        "colab": {
          "base_uri": "https://localhost:8080/"
        },
        "id": "UAQh3O8wQBkO",
        "outputId": "a7fd3457-99a3-4065-a975-576f9a1330d4"
      },
      "outputs": [
        {
          "output_type": "execute_result",
          "data": {
            "text/plain": [
              "array(['Neutral', 'Positive', 'Negative'], dtype=object)"
            ]
          },
          "metadata": {},
          "execution_count": 58
        }
      ],
      "source": [
        "df['Sentiment'].unique()"
      ]
    },
    {
      "cell_type": "markdown",
      "source": [
        "####The types of sentiments after grouping are:\n",
        "####1.Neutral\n",
        "####2.Positive\n",
        "####3.Negative"
      ],
      "metadata": {
        "id": "AhF03CvP01cF"
      }
    },
    {
      "cell_type": "code",
      "source": [
        "#Plotting the total number of tweets for each subcategory in the target variable after the transformation\n",
        "plt.rcParams[\"figure.figsize\"]=10,10\n",
        "sns.countplot(x=\"Sentiment\", data=df)"
      ],
      "metadata": {
        "colab": {
          "base_uri": "https://localhost:8080/",
          "height": 623
        },
        "outputId": "478e5e56-45ba-4332-8099-70e67e1b0740",
        "id": "PGZRpnED0l4Z"
      },
      "execution_count": 59,
      "outputs": [
        {
          "output_type": "execute_result",
          "data": {
            "text/plain": [
              "<matplotlib.axes._subplots.AxesSubplot at 0x7f7799dd3190>"
            ]
          },
          "metadata": {},
          "execution_count": 59
        },
        {
          "output_type": "display_data",
          "data": {
            "image/png": "[encoded data removed]",
            "text/plain": [
              "<Figure size 720x720 with 1 Axes>"
            ]
          },
          "metadata": {
            "needs_background": "light"
          }
        }
      ]
    },
    {
      "cell_type": "code",
      "execution_count": 60,
      "metadata": {
        "colab": {
          "base_uri": "https://localhost:8080/"
        },
        "id": "dJtoR5iOQ1dd",
        "outputId": "d80ce41f-865d-4c46-f12e-61c00a54130e"
      },
      "outputs": [
        {
          "output_type": "execute_result",
          "data": {
            "text/plain": [
              "Positive    18046\n",
              "Negative    15398\n",
              "Neutral      7713\n",
              "Name: Sentiment, dtype: int64"
            ]
          },
          "metadata": {},
          "execution_count": 60
        }
      ],
      "source": [
        "df['Sentiment'].value_counts()"
      ]
    },
    {
      "cell_type": "markdown",
      "metadata": {
        "id": "_TcZhTy7TgIO"
      },
      "source": [
        "##**Locations Analysis**"
      ]
    },
    {
      "cell_type": "markdown",
      "metadata": {
        "id": "SoIKfGVwnak7"
      },
      "source": [
        "####Let us find out top 10 locations of tweet"
      ]
    },
    {
      "cell_type": "code",
      "execution_count": 61,
      "metadata": {
        "colab": {
          "base_uri": "https://localhost:8080/",
          "height": 423
        },
        "id": "Oh8qVkUTC76Z",
        "outputId": "40cc654f-4867-4cdf-de15-18c102dd2c2e"
      },
      "outputs": [
        {
          "output_type": "execute_result",
          "data": {
            "text/html": [
              "\n",
              "  <div id=\"df-ec4a769a-5e2a-4b51-bd87-1484a21e8c83\">\n",
              "    <div class=\"colab-df-container\">\n",
              "      <div>\n",
              "<style scoped>\n",
              "    .dataframe tbody tr th:only-of-type {\n",
              "        vertical-align: middle;\n",
              "    }\n",
              "\n",
              "    .dataframe tbody tr th {\n",
              "        vertical-align: top;\n",
              "    }\n",
              "\n",
              "    .dataframe thead th {\n",
              "        text-align: right;\n",
              "    }\n",
              "</style>\n",
              "<table border=\"1\" class=\"dataframe\">\n",
              "  <thead>\n",
              "    <tr style=\"text-align: right;\">\n",
              "      <th></th>\n",
              "      <th>Location</th>\n",
              "      <th>Count</th>\n",
              "    </tr>\n",
              "  </thead>\n",
              "  <tbody>\n",
              "    <tr>\n",
              "      <th>0</th>\n",
              "      <td>London</td>\n",
              "      <td>540</td>\n",
              "    </tr>\n",
              "    <tr>\n",
              "      <th>1</th>\n",
              "      <td>United States</td>\n",
              "      <td>528</td>\n",
              "    </tr>\n",
              "    <tr>\n",
              "      <th>2</th>\n",
              "      <td>London, England</td>\n",
              "      <td>520</td>\n",
              "    </tr>\n",
              "    <tr>\n",
              "      <th>3</th>\n",
              "      <td>New York, NY</td>\n",
              "      <td>395</td>\n",
              "    </tr>\n",
              "    <tr>\n",
              "      <th>4</th>\n",
              "      <td>Washington, DC</td>\n",
              "      <td>373</td>\n",
              "    </tr>\n",
              "    <tr>\n",
              "      <th>...</th>\n",
              "      <td>...</td>\n",
              "      <td>...</td>\n",
              "    </tr>\n",
              "    <tr>\n",
              "      <th>12215</th>\n",
              "      <td>Earth/Matrix</td>\n",
              "      <td>1</td>\n",
              "    </tr>\n",
              "    <tr>\n",
              "      <th>12216</th>\n",
              "      <td>#NewYorkTough</td>\n",
              "      <td>1</td>\n",
              "    </tr>\n",
              "    <tr>\n",
              "      <th>12217</th>\n",
              "      <td>NY/TX</td>\n",
              "      <td>1</td>\n",
              "    </tr>\n",
              "    <tr>\n",
              "      <th>12218</th>\n",
              "      <td>Okc,Ok</td>\n",
              "      <td>1</td>\n",
              "    </tr>\n",
              "    <tr>\n",
              "      <th>12219</th>\n",
              "      <td>Guildford, UK</td>\n",
              "      <td>1</td>\n",
              "    </tr>\n",
              "  </tbody>\n",
              "</table>\n",
              "<p>12220 rows × 2 columns</p>\n",
              "</div>\n",
              "      <button class=\"colab-df-convert\" onclick=\"convertToInteractive('df-ec4a769a-5e2a-4b51-bd87-1484a21e8c83')\"\n",
              "              title=\"Convert this dataframe to an interactive table.\"\n",
              "              style=\"display:none;\">\n",
              "        \n",
              "  <svg xmlns=\"http://www.w3.org/2000/svg\" height=\"24px\"viewBox=\"0 0 24 24\"\n",
              "       width=\"24px\">\n",
              "    <path d=\"M0 0h24v24H0V0z\" fill=\"none\"/>\n",
              "    <path d=\"M18.56 5.44l.94 2.06.94-2.06 2.06-.94-2.06-.94-.94-2.06-.94 2.06-2.06.94zm-11 1L8.5 8.5l.94-2.06 2.06-.94-2.06-.94L8.5 2.5l-.94 2.06-2.06.94zm10 10l.94 2.06.94-2.06 2.06-.94-2.06-.94-.94-2.06-.94 2.06-2.06.94z\"/><path d=\"M17.41 7.96l-1.37-1.37c-.4-.4-.92-.59-1.43-.59-.52 0-1.04.2-1.43.59L10.3 9.45l-7.72 7.72c-.78.78-.78 2.05 0 2.83L4 21.41c.39.39.9.59 1.41.59.51 0 1.02-.2 1.41-.59l7.78-7.78 2.81-2.81c.8-.78.8-2.07 0-2.86zM5.41 20L4 18.59l7.72-7.72 1.47 1.35L5.41 20z\"/>\n",
              "  </svg>\n",
              "      </button>\n",
              "      \n",
              "  <style>\n",
              "    .colab-df-container {\n",
              "      display:flex;\n",
              "      flex-wrap:wrap;\n",
              "      gap: 12px;\n",
              "    }\n",
              "\n",
              "    .colab-df-convert {\n",
              "      background-color: #E8F0FE;\n",
              "      border: none;\n",
              "      border-radius: 50%;\n",
              "      cursor: pointer;\n",
              "      display: none;\n",
              "      fill: #1967D2;\n",
              "      height: 32px;\n",
              "      padding: 0 0 0 0;\n",
              "      width: 32px;\n",
              "    }\n",
              "\n",
              "    .colab-df-convert:hover {\n",
              "      background-color: #E2EBFA;\n",
              "      box-shadow: 0px 1px 2px rgba(60, 64, 67, 0.3), 0px 1px 3px 1px rgba(60, 64, 67, 0.15);\n",
              "      fill: #174EA6;\n",
              "    }\n",
              "\n",
              "    [theme=dark] .colab-df-convert {\n",
              "      background-color: #3B4455;\n",
              "      fill: #D2E3FC;\n",
              "    }\n",
              "\n",
              "    [theme=dark] .colab-df-convert:hover {\n",
              "      background-color: #434B5C;\n",
              "      box-shadow: 0px 1px 3px 1px rgba(0, 0, 0, 0.15);\n",
              "      filter: drop-shadow(0px 1px 2px rgba(0, 0, 0, 0.3));\n",
              "      fill: #FFFFFF;\n",
              "    }\n",
              "  </style>\n",
              "\n",
              "      <script>\n",
              "        const buttonEl =\n",
              "          document.querySelector('#df-ec4a769a-5e2a-4b51-bd87-1484a21e8c83 button.colab-df-convert');\n",
              "        buttonEl.style.display =\n",
              "          google.colab.kernel.accessAllowed ? 'block' : 'none';\n",
              "\n",
              "        async function convertToInteractive(key) {\n",
              "          const element = document.querySelector('#df-ec4a769a-5e2a-4b51-bd87-1484a21e8c83');\n",
              "          const dataTable =\n",
              "            await google.colab.kernel.invokeFunction('convertToInteractive',\n",
              "                                                     [key], {});\n",
              "          if (!dataTable) return;\n",
              "\n",
              "          const docLinkHtml = 'Like what you see? Visit the ' +\n",
              "            '<a target=\"_blank\" href=https://colab.research.google.com/notebooks/data_table.ipynb>data table notebook</a>'\n",
              "            + ' to learn more about interactive tables.';\n",
              "          element.innerHTML = '';\n",
              "          dataTable['output_type'] = 'display_data';\n",
              "          await google.colab.output.renderOutput(dataTable, element);\n",
              "          const docLink = document.createElement('div');\n",
              "          docLink.innerHTML = docLinkHtml;\n",
              "          element.appendChild(docLink);\n",
              "        }\n",
              "      </script>\n",
              "    </div>\n",
              "  </div>\n",
              "  "
            ],
            "text/plain": [
              "              Location  Count\n",
              "0               London    540\n",
              "1        United States    528\n",
              "2      London, England    520\n",
              "3         New York, NY    395\n",
              "4       Washington, DC    373\n",
              "...                ...    ...\n",
              "12215     Earth/Matrix      1\n",
              "12216   #NewYorkTough       1\n",
              "12217            NY/TX      1\n",
              "12218           Okc,Ok      1\n",
              "12219    Guildford, UK      1\n",
              "\n",
              "[12220 rows x 2 columns]"
            ]
          },
          "metadata": {},
          "execution_count": 61
        }
      ],
      "source": [
        "#Number of tweets in each location\n",
        "Location_df = df['Location'].value_counts().rename_axis('Location').reset_index(name='Count')\n",
        "Location_df"
      ]
    },
    {
      "cell_type": "code",
      "source": [
        "#top locations of tweet\n",
        "Location_df.head(10)"
      ],
      "metadata": {
        "colab": {
          "base_uri": "https://localhost:8080/",
          "height": 363
        },
        "id": "4ADT3y551xel",
        "outputId": "a4cf7665-d7f8-4903-eccf-82ecc6b11a5c"
      },
      "execution_count": 62,
      "outputs": [
        {
          "output_type": "execute_result",
          "data": {
            "text/html": [
              "\n",
              "  <div id=\"df-5d5741c1-1b3e-442d-acf5-1fb51dd65d1e\">\n",
              "    <div class=\"colab-df-container\">\n",
              "      <div>\n",
              "<style scoped>\n",
              "    .dataframe tbody tr th:only-of-type {\n",
              "        vertical-align: middle;\n",
              "    }\n",
              "\n",
              "    .dataframe tbody tr th {\n",
              "        vertical-align: top;\n",
              "    }\n",
              "\n",
              "    .dataframe thead th {\n",
              "        text-align: right;\n",
              "    }\n",
              "</style>\n",
              "<table border=\"1\" class=\"dataframe\">\n",
              "  <thead>\n",
              "    <tr style=\"text-align: right;\">\n",
              "      <th></th>\n",
              "      <th>Location</th>\n",
              "      <th>Count</th>\n",
              "    </tr>\n",
              "  </thead>\n",
              "  <tbody>\n",
              "    <tr>\n",
              "      <th>0</th>\n",
              "      <td>London</td>\n",
              "      <td>540</td>\n",
              "    </tr>\n",
              "    <tr>\n",
              "      <th>1</th>\n",
              "      <td>United States</td>\n",
              "      <td>528</td>\n",
              "    </tr>\n",
              "    <tr>\n",
              "      <th>2</th>\n",
              "      <td>London, England</td>\n",
              "      <td>520</td>\n",
              "    </tr>\n",
              "    <tr>\n",
              "      <th>3</th>\n",
              "      <td>New York, NY</td>\n",
              "      <td>395</td>\n",
              "    </tr>\n",
              "    <tr>\n",
              "      <th>4</th>\n",
              "      <td>Washington, DC</td>\n",
              "      <td>373</td>\n",
              "    </tr>\n",
              "    <tr>\n",
              "      <th>5</th>\n",
              "      <td>United Kingdom</td>\n",
              "      <td>337</td>\n",
              "    </tr>\n",
              "    <tr>\n",
              "      <th>6</th>\n",
              "      <td>Los Angeles, CA</td>\n",
              "      <td>281</td>\n",
              "    </tr>\n",
              "    <tr>\n",
              "      <th>7</th>\n",
              "      <td>India</td>\n",
              "      <td>268</td>\n",
              "    </tr>\n",
              "    <tr>\n",
              "      <th>8</th>\n",
              "      <td>UK</td>\n",
              "      <td>232</td>\n",
              "    </tr>\n",
              "    <tr>\n",
              "      <th>9</th>\n",
              "      <td>Australia</td>\n",
              "      <td>225</td>\n",
              "    </tr>\n",
              "  </tbody>\n",
              "</table>\n",
              "</div>\n",
              "      <button class=\"colab-df-convert\" onclick=\"convertToInteractive('df-5d5741c1-1b3e-442d-acf5-1fb51dd65d1e')\"\n",
              "              title=\"Convert this dataframe to an interactive table.\"\n",
              "              style=\"display:none;\">\n",
              "        \n",
              "  <svg xmlns=\"http://www.w3.org/2000/svg\" height=\"24px\"viewBox=\"0 0 24 24\"\n",
              "       width=\"24px\">\n",
              "    <path d=\"M0 0h24v24H0V0z\" fill=\"none\"/>\n",
              "    <path d=\"M18.56 5.44l.94 2.06.94-2.06 2.06-.94-2.06-.94-.94-2.06-.94 2.06-2.06.94zm-11 1L8.5 8.5l.94-2.06 2.06-.94-2.06-.94L8.5 2.5l-.94 2.06-2.06.94zm10 10l.94 2.06.94-2.06 2.06-.94-2.06-.94-.94-2.06-.94 2.06-2.06.94z\"/><path d=\"M17.41 7.96l-1.37-1.37c-.4-.4-.92-.59-1.43-.59-.52 0-1.04.2-1.43.59L10.3 9.45l-7.72 7.72c-.78.78-.78 2.05 0 2.83L4 21.41c.39.39.9.59 1.41.59.51 0 1.02-.2 1.41-.59l7.78-7.78 2.81-2.81c.8-.78.8-2.07 0-2.86zM5.41 20L4 18.59l7.72-7.72 1.47 1.35L5.41 20z\"/>\n",
              "  </svg>\n",
              "      </button>\n",
              "      \n",
              "  <style>\n",
              "    .colab-df-container {\n",
              "      display:flex;\n",
              "      flex-wrap:wrap;\n",
              "      gap: 12px;\n",
              "    }\n",
              "\n",
              "    .colab-df-convert {\n",
              "      background-color: #E8F0FE;\n",
              "      border: none;\n",
              "      border-radius: 50%;\n",
              "      cursor: pointer;\n",
              "      display: none;\n",
              "      fill: #1967D2;\n",
              "      height: 32px;\n",
              "      padding: 0 0 0 0;\n",
              "      width: 32px;\n",
              "    }\n",
              "\n",
              "    .colab-df-convert:hover {\n",
              "      background-color: #E2EBFA;\n",
              "      box-shadow: 0px 1px 2px rgba(60, 64, 67, 0.3), 0px 1px 3px 1px rgba(60, 64, 67, 0.15);\n",
              "      fill: #174EA6;\n",
              "    }\n",
              "\n",
              "    [theme=dark] .colab-df-convert {\n",
              "      background-color: #3B4455;\n",
              "      fill: #D2E3FC;\n",
              "    }\n",
              "\n",
              "    [theme=dark] .colab-df-convert:hover {\n",
              "      background-color: #434B5C;\n",
              "      box-shadow: 0px 1px 3px 1px rgba(0, 0, 0, 0.15);\n",
              "      filter: drop-shadow(0px 1px 2px rgba(0, 0, 0, 0.3));\n",
              "      fill: #FFFFFF;\n",
              "    }\n",
              "  </style>\n",
              "\n",
              "      <script>\n",
              "        const buttonEl =\n",
              "          document.querySelector('#df-5d5741c1-1b3e-442d-acf5-1fb51dd65d1e button.colab-df-convert');\n",
              "        buttonEl.style.display =\n",
              "          google.colab.kernel.accessAllowed ? 'block' : 'none';\n",
              "\n",
              "        async function convertToInteractive(key) {\n",
              "          const element = document.querySelector('#df-5d5741c1-1b3e-442d-acf5-1fb51dd65d1e');\n",
              "          const dataTable =\n",
              "            await google.colab.kernel.invokeFunction('convertToInteractive',\n",
              "                                                     [key], {});\n",
              "          if (!dataTable) return;\n",
              "\n",
              "          const docLinkHtml = 'Like what you see? Visit the ' +\n",
              "            '<a target=\"_blank\" href=https://colab.research.google.com/notebooks/data_table.ipynb>data table notebook</a>'\n",
              "            + ' to learn more about interactive tables.';\n",
              "          element.innerHTML = '';\n",
              "          dataTable['output_type'] = 'display_data';\n",
              "          await google.colab.output.renderOutput(dataTable, element);\n",
              "          const docLink = document.createElement('div');\n",
              "          docLink.innerHTML = docLinkHtml;\n",
              "          element.appendChild(docLink);\n",
              "        }\n",
              "      </script>\n",
              "    </div>\n",
              "  </div>\n",
              "  "
            ],
            "text/plain": [
              "          Location  Count\n",
              "0           London    540\n",
              "1    United States    528\n",
              "2  London, England    520\n",
              "3     New York, NY    395\n",
              "4   Washington, DC    373\n",
              "5   United Kingdom    337\n",
              "6  Los Angeles, CA    281\n",
              "7            India    268\n",
              "8               UK    232\n",
              "9        Australia    225"
            ]
          },
          "metadata": {},
          "execution_count": 62
        }
      ]
    },
    {
      "cell_type": "code",
      "execution_count": 63,
      "metadata": {
        "colab": {
          "base_uri": "https://localhost:8080/",
          "height": 717
        },
        "id": "FXPxupIBKs0A",
        "outputId": "1981da4a-280b-4d8c-fb6d-ebfc356eb500"
      },
      "outputs": [
        {
          "output_type": "display_data",
          "data": {
            "image/png": "[encoded data removed]",
            "text/plain": [
              "<Figure size 1080x720 with 1 Axes>"
            ]
          },
          "metadata": {
            "needs_background": "light"
          }
        }
      ],
      "source": [
        "#Plotting countplot for top 10 locations\n",
        "plt.rcParams[\"figure.figsize\"]=(15,10)\n",
        "sns.barplot(Location_df['Location'][0:10], x = 'Location', y =Location_df['Count'][0:10], palette ='inferno').tick_params(axis='x', rotation=90)\n",
        "plt.title('Locations with the most number of tweets', fontsize = 30)\n",
        "plt.xlabel('Location', fontsize = 20)\n",
        "plt.ylabel('Count', fontsize = 25)\n",
        "plt.show()"
      ]
    },
    {
      "cell_type": "markdown",
      "source": [
        "####Most of the tweets are from United States, London and New York"
      ],
      "metadata": {
        "id": "tkXqepP03DGT"
      }
    }
  ]
}