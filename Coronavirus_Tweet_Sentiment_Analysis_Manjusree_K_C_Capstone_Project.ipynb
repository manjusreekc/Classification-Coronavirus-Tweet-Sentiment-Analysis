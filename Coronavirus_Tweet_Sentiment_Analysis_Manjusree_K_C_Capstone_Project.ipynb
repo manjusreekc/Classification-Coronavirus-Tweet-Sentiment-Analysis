{
  "cells": [
    {
      "cell_type": "markdown",
      "metadata": {
        "id": "tOGC-qoyhJeX"
      },
      "source": [
        "# <b><u> Project Title : Sentiment Analysis : Predicting sentiment of COVID-19 tweets</u></b>"
      ]
    },
    {
      "cell_type": "markdown",
      "metadata": {
        "id": "Y06xIdG26kRF"
      },
      "source": [
        "## <b> Problem Description </b>\n",
        "\n",
        "### This challenge asks you to build a classification model to predict the sentiment of COVID-19 tweets.The tweets have been pulled from Twitter and manual tagging has been done then.\n",
        "\n",
        "### The names and usernames have been given codes to avoid any privacy concerns.\n",
        "\n",
        "### You are given the following information:\n",
        "1. Location\n",
        "2. Tweet At\n",
        "3. Original Tweet\n",
        "4. Label"
      ]
    },
    {
      "cell_type": "markdown",
      "metadata": {
        "id": "UK51WOVBqik2"
      },
      "source": [
        "####Sentiment analysis studies the subjective information in an expression, that is, the opinions, appraisals, emotions, or attitudes towards a topic, person or entity. Expressions can be classified as positive, negative, or neutral.\n",
        "####Twitter is one of the most powerful social media platform in the world right now , with 360 million monthly active users and around 500 million tweets sent each day. It is used every day by people to express opinions about different topics, such as products, movies, music, politicians, events, social events, among others.\n",
        "\n",
        "####Coronavirus disease (COVID-19) is an infectious disease caused by the SARS-CoV-2 virus. It is a global pandemic that is still infecting millions of people around the world . In this project we will be looking at thousand of tweets made on Covid-19 from around the world and will try to predict the sentiment of each of the tweet by classifying them into three categories positive, negative and neutral."
      ]
    },
    {
      "cell_type": "markdown",
      "metadata": {
        "id": "zts-hlPOsr-A"
      },
      "source": [
        "![Sentiment.jpg](data:image/jpeg;base64,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)"
      ]
    },
    {
      "cell_type": "markdown",
      "metadata": {
        "id": "GZ4R9NGq3n9-"
      },
      "source": [
        "##**Analyzing the dataset**"
      ]
    },
    {
      "cell_type": "code",
      "execution_count": null,
      "metadata": {
        "colab": {
          "background_save": true
        },
        "id": "_cClH7dPo-3s"
      },
      "outputs": [],
      "source": [
        "#Libraries for data manipulation\n",
        "import pandas as pd\n",
        "import numpy as np\n",
        "#Libraries for visualization\n",
        "import matplotlib.pyplot as plt\n",
        "import seaborn as sns\n",
        "%matplotlib inline\n",
        "import plotly.graph_objects as go\n",
        "#Libraries to suppress warnings\n",
        "import warnings\n",
        "warnings.filterwarnings(\"ignore\")\n",
        "\n",
        "#Other libraries used\n",
        "import re\n",
        "import sys\n",
        "import requests\n",
        "from PIL import Image\n",
        "import requests as r\n",
        "from wordcloud import WordCloud\n",
        "from collections import Counter\n",
        "from collections import defaultdict\n"
      ]
    },
    {
      "cell_type": "code",
      "execution_count": null,
      "metadata": {
        "colab": {
          "base_uri": "https://localhost:8080/"
        },
        "id": "llrpSCaFBVgD",
        "outputId": "84c42112-c676-4316-a5db-b50e91f403cf"
      },
      "outputs": [
        {
          "name": "stdout",
          "output_type": "stream",
          "text": [
            "Drive already mounted at /content/drive; to attempt to forcibly remount, call drive.mount(\"/content/drive\", force_remount=True).\n"
          ]
        }
      ],
      "source": [
        "#mounting drive\n",
        "from google.colab import drive\n",
        "drive.mount('/content/drive')"
      ]
    },
    {
      "cell_type": "code",
      "execution_count": null,
      "metadata": {
        "id": "L42QykaZCZBg"
      },
      "outputs": [],
      "source": [
        "#Loading the dataset\n",
        "tweet_df=pd.read_csv('/content/drive/MyDrive/Machine learning/Corona virus sentiment/Coronavirus Tweet Sentiment Analysis/Data & Resources/Coronavirus Tweets.csv',encoding = \"ISO-8859-1\")"
      ]
    },
    {
      "cell_type": "code",
      "execution_count": null,
      "metadata": {
        "id": "K83p-KWnBt5I"
      },
      "outputs": [],
      "source": [
        "#Creating a copy of the dataset\n",
        "df=tweet_df.copy()"
      ]
    },
    {
      "cell_type": "code",
      "execution_count": null,
      "metadata": {
        "colab": {
          "base_uri": "https://localhost:8080/",
          "height": 206
        },
        "id": "N0aY8LJWvBee",
        "outputId": "75497236-ff84-40ef-c98c-3a206704706a"
      },
      "outputs": [
        {
          "data": {
            "text/html": [
              "\n",
              "  <div id=\"df-a10b7fc6-5a74-4209-b89a-1e76afd2082c\">\n",
              "    <div class=\"colab-df-container\">\n",
              "      <div>\n",
              "<style scoped>\n",
              "    .dataframe tbody tr th:only-of-type {\n",
              "        vertical-align: middle;\n",
              "    }\n",
              "\n",
              "    .dataframe tbody tr th {\n",
              "        vertical-align: top;\n",
              "    }\n",
              "\n",
              "    .dataframe thead th {\n",
              "        text-align: right;\n",
              "    }\n",
              "</style>\n",
              "<table border=\"1\" class=\"dataframe\">\n",
              "  <thead>\n",
              "    <tr style=\"text-align: right;\">\n",
              "      <th></th>\n",
              "      <th>UserName</th>\n",
              "      <th>ScreenName</th>\n",
              "      <th>Location</th>\n",
              "      <th>TweetAt</th>\n",
              "      <th>OriginalTweet</th>\n",
              "      <th>Sentiment</th>\n",
              "    </tr>\n",
              "  </thead>\n",
              "  <tbody>\n",
              "    <tr>\n",
              "      <th>0</th>\n",
              "      <td>3799</td>\n",
              "      <td>48751</td>\n",
              "      <td>London</td>\n",
              "      <td>16-03-2020</td>\n",
              "      <td>@MeNyrbie @Phil_Gahan @Chrisitv https://t.co/i...</td>\n",
              "      <td>Neutral</td>\n",
              "    </tr>\n",
              "    <tr>\n",
              "      <th>1</th>\n",
              "      <td>3800</td>\n",
              "      <td>48752</td>\n",
              "      <td>UK</td>\n",
              "      <td>16-03-2020</td>\n",
              "      <td>advice Talk to your neighbours family to excha...</td>\n",
              "      <td>Positive</td>\n",
              "    </tr>\n",
              "    <tr>\n",
              "      <th>2</th>\n",
              "      <td>3801</td>\n",
              "      <td>48753</td>\n",
              "      <td>Vagabonds</td>\n",
              "      <td>16-03-2020</td>\n",
              "      <td>Coronavirus Australia: Woolworths to give elde...</td>\n",
              "      <td>Positive</td>\n",
              "    </tr>\n",
              "    <tr>\n",
              "      <th>3</th>\n",
              "      <td>3802</td>\n",
              "      <td>48754</td>\n",
              "      <td>NaN</td>\n",
              "      <td>16-03-2020</td>\n",
              "      <td>My food stock is not the only one which is emp...</td>\n",
              "      <td>Positive</td>\n",
              "    </tr>\n",
              "    <tr>\n",
              "      <th>4</th>\n",
              "      <td>3803</td>\n",
              "      <td>48755</td>\n",
              "      <td>NaN</td>\n",
              "      <td>16-03-2020</td>\n",
              "      <td>Me, ready to go at supermarket during the #COV...</td>\n",
              "      <td>Extremely Negative</td>\n",
              "    </tr>\n",
              "  </tbody>\n",
              "</table>\n",
              "</div>\n",
              "      <button class=\"colab-df-convert\" onclick=\"convertToInteractive('df-a10b7fc6-5a74-4209-b89a-1e76afd2082c')\"\n",
              "              title=\"Convert this dataframe to an interactive table.\"\n",
              "              style=\"display:none;\">\n",
              "        \n",
              "  <svg xmlns=\"http://www.w3.org/2000/svg\" height=\"24px\"viewBox=\"0 0 24 24\"\n",
              "       width=\"24px\">\n",
              "    <path d=\"M0 0h24v24H0V0z\" fill=\"none\"/>\n",
              "    <path d=\"M18.56 5.44l.94 2.06.94-2.06 2.06-.94-2.06-.94-.94-2.06-.94 2.06-2.06.94zm-11 1L8.5 8.5l.94-2.06 2.06-.94-2.06-.94L8.5 2.5l-.94 2.06-2.06.94zm10 10l.94 2.06.94-2.06 2.06-.94-2.06-.94-.94-2.06-.94 2.06-2.06.94z\"/><path d=\"M17.41 7.96l-1.37-1.37c-.4-.4-.92-.59-1.43-.59-.52 0-1.04.2-1.43.59L10.3 9.45l-7.72 7.72c-.78.78-.78 2.05 0 2.83L4 21.41c.39.39.9.59 1.41.59.51 0 1.02-.2 1.41-.59l7.78-7.78 2.81-2.81c.8-.78.8-2.07 0-2.86zM5.41 20L4 18.59l7.72-7.72 1.47 1.35L5.41 20z\"/>\n",
              "  </svg>\n",
              "      </button>\n",
              "      \n",
              "  <style>\n",
              "    .colab-df-container {\n",
              "      display:flex;\n",
              "      flex-wrap:wrap;\n",
              "      gap: 12px;\n",
              "    }\n",
              "\n",
              "    .colab-df-convert {\n",
              "      background-color: #E8F0FE;\n",
              "      border: none;\n",
              "      border-radius: 50%;\n",
              "      cursor: pointer;\n",
              "      display: none;\n",
              "      fill: #1967D2;\n",
              "      height: 32px;\n",
              "      padding: 0 0 0 0;\n",
              "      width: 32px;\n",
              "    }\n",
              "\n",
              "    .colab-df-convert:hover {\n",
              "      background-color: #E2EBFA;\n",
              "      box-shadow: 0px 1px 2px rgba(60, 64, 67, 0.3), 0px 1px 3px 1px rgba(60, 64, 67, 0.15);\n",
              "      fill: #174EA6;\n",
              "    }\n",
              "\n",
              "    [theme=dark] .colab-df-convert {\n",
              "      background-color: #3B4455;\n",
              "      fill: #D2E3FC;\n",
              "    }\n",
              "\n",
              "    [theme=dark] .colab-df-convert:hover {\n",
              "      background-color: #434B5C;\n",
              "      box-shadow: 0px 1px 3px 1px rgba(0, 0, 0, 0.15);\n",
              "      filter: drop-shadow(0px 1px 2px rgba(0, 0, 0, 0.3));\n",
              "      fill: #FFFFFF;\n",
              "    }\n",
              "  </style>\n",
              "\n",
              "      <script>\n",
              "        const buttonEl =\n",
              "          document.querySelector('#df-a10b7fc6-5a74-4209-b89a-1e76afd2082c button.colab-df-convert');\n",
              "        buttonEl.style.display =\n",
              "          google.colab.kernel.accessAllowed ? 'block' : 'none';\n",
              "\n",
              "        async function convertToInteractive(key) {\n",
              "          const element = document.querySelector('#df-a10b7fc6-5a74-4209-b89a-1e76afd2082c');\n",
              "          const dataTable =\n",
              "            await google.colab.kernel.invokeFunction('convertToInteractive',\n",
              "                                                     [key], {});\n",
              "          if (!dataTable) return;\n",
              "\n",
              "          const docLinkHtml = 'Like what you see? Visit the ' +\n",
              "            '<a target=\"_blank\" href=https://colab.research.google.com/notebooks/data_table.ipynb>data table notebook</a>'\n",
              "            + ' to learn more about interactive tables.';\n",
              "          element.innerHTML = '';\n",
              "          dataTable['output_type'] = 'display_data';\n",
              "          await google.colab.output.renderOutput(dataTable, element);\n",
              "          const docLink = document.createElement('div');\n",
              "          docLink.innerHTML = docLinkHtml;\n",
              "          element.appendChild(docLink);\n",
              "        }\n",
              "      </script>\n",
              "    </div>\n",
              "  </div>\n",
              "  "
            ],
            "text/plain": [
              "   UserName  ...           Sentiment\n",
              "0      3799  ...             Neutral\n",
              "1      3800  ...            Positive\n",
              "2      3801  ...            Positive\n",
              "3      3802  ...            Positive\n",
              "4      3803  ...  Extremely Negative\n",
              "\n",
              "[5 rows x 6 columns]"
            ]
          },
          "execution_count": 108,
          "metadata": {},
          "output_type": "execute_result"
        }
      ],
      "source": [
        "#first look\n",
        "df.head()"
      ]
    },
    {
      "cell_type": "code",
      "execution_count": null,
      "metadata": {
        "colab": {
          "base_uri": "https://localhost:8080/"
        },
        "id": "p8y52adyCxPs",
        "outputId": "c20c6a43-6573-40c9-a506-3a55d33fd9fb"
      },
      "outputs": [
        {
          "name": "stdout",
          "output_type": "stream",
          "text": [
            "<class 'pandas.core.frame.DataFrame'>\n",
            "RangeIndex: 41157 entries, 0 to 41156\n",
            "Data columns (total 6 columns):\n",
            " #   Column         Non-Null Count  Dtype \n",
            "---  ------         --------------  ----- \n",
            " 0   UserName       41157 non-null  int64 \n",
            " 1   ScreenName     41157 non-null  int64 \n",
            " 2   Location       32567 non-null  object\n",
            " 3   TweetAt        41157 non-null  object\n",
            " 4   OriginalTweet  41157 non-null  object\n",
            " 5   Sentiment      41157 non-null  object\n",
            "dtypes: int64(2), object(4)\n",
            "memory usage: 1.9+ MB\n"
          ]
        }
      ],
      "source": [
        "#Checking basic information\n",
        "df.info()"
      ]
    },
    {
      "cell_type": "code",
      "execution_count": null,
      "metadata": {
        "colab": {
          "base_uri": "https://localhost:8080/"
        },
        "id": "wZObTLm0dd9m",
        "outputId": "1e31519a-551f-4f8c-8435-671d44075491"
      },
      "outputs": [
        {
          "name": "stdout",
          "output_type": "stream",
          "text": [
            "The dataset contains 41157 rows\n",
            "The dataset contains 6 columns\n"
          ]
        }
      ],
      "source": [
        "#Checking the shape of the dataset\n",
        "print(\"The dataset contains\",df.shape[0],\"rows\")\n",
        "print(\"The dataset contains\",df.shape[1],\"columns\")"
      ]
    },
    {
      "cell_type": "code",
      "execution_count": null,
      "metadata": {
        "colab": {
          "base_uri": "https://localhost:8080/"
        },
        "id": "ucIctAjDw4vG",
        "outputId": "c766fed4-4d2c-4ff3-c4f9-6bd03f19ab5c"
      },
      "outputs": [
        {
          "name": "stdout",
          "output_type": "stream",
          "text": [
            "The number of duplicates are: 0\n"
          ]
        }
      ],
      "source": [
        "#Checking for duplicates\n",
        "print(\"The number of duplicates are:\",len(df[df.duplicated()]))"
      ]
    },
    {
      "cell_type": "code",
      "execution_count": null,
      "metadata": {
        "colab": {
          "base_uri": "https://localhost:8080/"
        },
        "id": "Elk3Dp-mC0pB",
        "outputId": "f77b566a-a338-48cb-c010-e27b00bb35de"
      },
      "outputs": [
        {
          "data": {
            "text/plain": [
              "UserName            0\n",
              "ScreenName          0\n",
              "Location         8590\n",
              "TweetAt             0\n",
              "OriginalTweet       0\n",
              "Sentiment           0\n",
              "dtype: int64"
            ]
          },
          "execution_count": 112,
          "metadata": {},
          "output_type": "execute_result"
        }
      ],
      "source": [
        "#Getting the count of null values in all the columns\n",
        "df.isnull().sum()"
      ]
    },
    {
      "cell_type": "markdown",
      "metadata": {
        "id": "8_ntxoP4xBaO"
      },
      "source": [
        "####We can observe that only the column 'Location' contains null values. But we are not considering that column for sentiment analysis. Hence there is no need for null value treatment."
      ]
    },
    {
      "cell_type": "markdown",
      "metadata": {
        "id": "8amUnWV8yD6d"
      },
      "source": [
        "####Let's create a word cloud showing the different variables in the given dataset."
      ]
    },
    {
      "cell_type": "code",
      "execution_count": null,
      "metadata": {
        "colab": {
          "base_uri": "https://localhost:8080/",
          "height": 198
        },
        "id": "yOZHP_g4OtL5",
        "outputId": "66d3ee10-24ac-471e-d0e2-b4a728279f84"
      },
      "outputs": [
        {
          "data": {
            "image/png": "[encoded data removed]",
            "text/plain": [
              "<Figure size 432x288 with 1 Axes>"
            ]
          },
          "metadata": {},
          "output_type": "display_data"
        }
      ],
      "source": [
        "text1 = \" \".join(title for title in df.columns)\n",
        "# Creating word_cloud with text as argument in .generate() method\n",
        "word_cloud1 = WordCloud(collocations = False, background_color = 'white').generate(text1)\n",
        "# Display the generated Word Cloud\n",
        "plt.imshow(word_cloud1, interpolation='bilinear')\n",
        "plt.axis(\"off\")\n",
        "plt.show()"
      ]
    },
    {
      "cell_type": "code",
      "execution_count": null,
      "metadata": {
        "colab": {
          "base_uri": "https://localhost:8080/"
        },
        "id": "RkQcz_ivyUC1",
        "outputId": "901a0d43-6517-4bc2-fc38-2937d62f9136"
      },
      "outputs": [
        {
          "data": {
            "text/plain": [
              "UserName         41157\n",
              "ScreenName       41157\n",
              "Location         12220\n",
              "TweetAt             30\n",
              "OriginalTweet    41157\n",
              "Sentiment            5\n",
              "dtype: int64"
            ]
          },
          "execution_count": 114,
          "metadata": {},
          "output_type": "execute_result"
        }
      ],
      "source": [
        "#Unique number of values in each column\n",
        "df.nunique()"
      ]
    },
    {
      "cell_type": "markdown",
      "metadata": {
        "id": "VdWEgiFYyMYR"
      },
      "source": [
        "####It is clear that screenName and UserName are unique for each observation in the given dataset. Therefore we will remove them. "
      ]
    },
    {
      "cell_type": "code",
      "execution_count": null,
      "metadata": {
        "id": "WUDL3UVmf6mG"
      },
      "outputs": [],
      "source": [
        "#Drop UserName and ScreenName\n",
        "df.drop([\"UserName\",\"ScreenName\"],axis=1,inplace=True)"
      ]
    },
    {
      "cell_type": "markdown",
      "metadata": {
        "id": "PpwaUdRcfiDm"
      },
      "source": [
        "##**Target variable analysis**"
      ]
    },
    {
      "cell_type": "markdown",
      "metadata": {
        "id": "gAhOOzoq4bn2"
      },
      "source": [
        "####Now, let's analyze the target variable, **Sentiment**"
      ]
    },
    {
      "cell_type": "code",
      "execution_count": null,
      "metadata": {
        "colab": {
          "base_uri": "https://localhost:8080/"
        },
        "id": "a53t982uf96q",
        "outputId": "b212dae6-163e-47a3-e41a-979ff68b241a"
      },
      "outputs": [
        {
          "data": {
            "text/plain": [
              "array(['Neutral', 'Positive', 'Extremely Negative', 'Negative',\n",
              "       'Extremely Positive'], dtype=object)"
            ]
          },
          "execution_count": 116,
          "metadata": {},
          "output_type": "execute_result"
        }
      ],
      "source": [
        "#Checking subcategories of target variable\n",
        "df.Sentiment.unique()"
      ]
    },
    {
      "cell_type": "markdown",
      "metadata": {
        "id": "uX6Yjd3Jy1NG"
      },
      "source": [
        "####We ave 5 subcategories for Sentiment- 'Neutral', 'Positive', 'Extremely Negative', 'Negative' and 'Extremely Positive'"
      ]
    },
    {
      "cell_type": "code",
      "execution_count": null,
      "metadata": {
        "colab": {
          "base_uri": "https://localhost:8080/"
        },
        "id": "-FnbtNHEy6uI",
        "outputId": "93525167-206f-4342-dcb5-d83a7e79980c"
      },
      "outputs": [
        {
          "data": {
            "text/plain": [
              "Positive              11422\n",
              "Negative               9917\n",
              "Neutral                7713\n",
              "Extremely Positive     6624\n",
              "Extremely Negative     5481\n",
              "Name: Sentiment, dtype: int64"
            ]
          },
          "execution_count": 117,
          "metadata": {},
          "output_type": "execute_result"
        }
      ],
      "source": [
        "#number of tweets in each subcategory of target variable\n",
        "df.Sentiment.value_counts()"
      ]
    },
    {
      "cell_type": "code",
      "execution_count": null,
      "metadata": {
        "colab": {
          "base_uri": "https://localhost:8080/",
          "height": 629
        },
        "id": "UtIqG2JEO36h",
        "outputId": "6f9840ea-8c5d-406a-edd6-3561af243f49"
      },
      "outputs": [
        {
          "data": {
            "text/plain": [
              "Text(0, 0.5, 'Number of tweets')"
            ]
          },
          "execution_count": 118,
          "metadata": {},
          "output_type": "execute_result"
        },
        {
          "data": {
            "image/png": "[encoded data removed]",
            "text/plain": [
              "<Figure size 720x720 with 1 Axes>"
            ]
          },
          "metadata": {},
          "output_type": "display_data"
        }
      ],
      "source": [
        "#Setting the heigt and width of the graph\n",
        "plt.rcParams[\"figure.figsize\"]=10,10\n",
        "#Plotting the total number of tweets for each subcategory in the target variable\n",
        "sns.countplot(x=\"Sentiment\", data=df)\n",
        "plt.ylabel(\"Number of tweets\")"
      ]
    },
    {
      "cell_type": "markdown",
      "metadata": {
        "id": "o_tGUqGf0YMt"
      },
      "source": [
        "##**Converting Sentiment**"
      ]
    },
    {
      "cell_type": "markdown",
      "metadata": {
        "id": "EFye-akvzJTm"
      },
      "source": [
        "####We will convert this 5-class classification problem into a 3-class classification problem by merging Extremely Positive tweets with positive tweets and Extremely Negative tweets with negative tweets."
      ]
    },
    {
      "cell_type": "code",
      "execution_count": null,
      "metadata": {
        "id": "Oa0oRRRVagKu"
      },
      "outputs": [],
      "source": [
        "def Sentiment_Grouping(sentiment):\n",
        "  if sentiment == \"Extremely Positive\":\n",
        "    return \"Positive\"\n",
        "  elif sentiment == \"Extremely Negative\":\n",
        "    return \"Negative\"\n",
        "  else:\n",
        "    return sentiment"
      ]
    },
    {
      "cell_type": "code",
      "execution_count": null,
      "metadata": {
        "id": "jwPnDN0t0l4U"
      },
      "outputs": [],
      "source": [
        "#Apply the Sentiment_Grouping function on the Sentiment column\n",
        "df[\"Sentiment\"] = df[\"Sentiment\"].apply(Sentiment_Grouping)"
      ]
    },
    {
      "cell_type": "code",
      "execution_count": null,
      "metadata": {
        "colab": {
          "base_uri": "https://localhost:8080/"
        },
        "id": "UAQh3O8wQBkO",
        "outputId": "6aebe1d1-8189-4c86-a47c-8cef59efa84b"
      },
      "outputs": [
        {
          "data": {
            "text/plain": [
              "array(['Neutral', 'Positive', 'Negative'], dtype=object)"
            ]
          },
          "execution_count": 121,
          "metadata": {},
          "output_type": "execute_result"
        }
      ],
      "source": [
        "df['Sentiment'].unique()"
      ]
    },
    {
      "cell_type": "markdown",
      "metadata": {
        "id": "AhF03CvP01cF"
      },
      "source": [
        "####The types of sentiments after grouping are:\n",
        "####1.Neutral\n",
        "####2.Positive\n",
        "####3.Negative"
      ]
    },
    {
      "cell_type": "code",
      "execution_count": null,
      "metadata": {
        "colab": {
          "base_uri": "https://localhost:8080/",
          "height": 72
        },
        "id": "PGZRpnED0l4Z",
        "outputId": "03868a12-309f-47f4-8ed7-71644fc9825f"
      },
      "outputs": [
        {
          "data": {
            "text/plain": [
              "<matplotlib.axes._subplots.AxesSubplot at 0x7fca227a2cd0>"
            ]
          },
          "execution_count": 122,
          "metadata": {},
          "output_type": "execute_result"
        },
        {
          "data": {
            "image/png": "[encoded data removed]",
            "text/plain": [
              "<Figure size 720x720 with 1 Axes>"
            ]
          },
          "metadata": {},
          "output_type": "display_data"
        }
      ],
      "source": [
        "#Plotting the total number of tweets for each subcategory in the target variable after the transformation\n",
        "plt.rcParams[\"figure.figsize\"]=10,10\n",
        "sns.countplot(x=\"Sentiment\", data=df)"
      ]
    },
    {
      "cell_type": "code",
      "execution_count": null,
      "metadata": {
        "colab": {
          "base_uri": "https://localhost:8080/"
        },
        "id": "dJtoR5iOQ1dd",
        "outputId": "2dddfeff-e3f7-44ec-face-eed0898f0cc5"
      },
      "outputs": [
        {
          "data": {
            "text/plain": [
              "Positive    18046\n",
              "Negative    15398\n",
              "Neutral      7713\n",
              "Name: Sentiment, dtype: int64"
            ]
          },
          "execution_count": 123,
          "metadata": {},
          "output_type": "execute_result"
        }
      ],
      "source": [
        "df['Sentiment'].value_counts()"
      ]
    },
    {
      "cell_type": "markdown",
      "metadata": {
        "id": "_TcZhTy7TgIO"
      },
      "source": [
        "##**Locations Analysis**"
      ]
    },
    {
      "cell_type": "markdown",
      "metadata": {
        "id": "SoIKfGVwnak7"
      },
      "source": [
        "####Let us find out top 10 locations of tweet"
      ]
    },
    {
      "cell_type": "code",
      "execution_count": null,
      "metadata": {
        "colab": {
          "base_uri": "https://localhost:8080/",
          "height": 423
        },
        "id": "Oh8qVkUTC76Z",
        "outputId": "69031199-72f3-4b25-ee39-71c5359d7011"
      },
      "outputs": [
        {
          "data": {
            "text/html": [
              "\n",
              "  <div id=\"df-cbbec804-6980-489d-8602-6ff2c4c7b281\">\n",
              "    <div class=\"colab-df-container\">\n",
              "      <div>\n",
              "<style scoped>\n",
              "    .dataframe tbody tr th:only-of-type {\n",
              "        vertical-align: middle;\n",
              "    }\n",
              "\n",
              "    .dataframe tbody tr th {\n",
              "        vertical-align: top;\n",
              "    }\n",
              "\n",
              "    .dataframe thead th {\n",
              "        text-align: right;\n",
              "    }\n",
              "</style>\n",
              "<table border=\"1\" class=\"dataframe\">\n",
              "  <thead>\n",
              "    <tr style=\"text-align: right;\">\n",
              "      <th></th>\n",
              "      <th>Location</th>\n",
              "      <th>Count</th>\n",
              "    </tr>\n",
              "  </thead>\n",
              "  <tbody>\n",
              "    <tr>\n",
              "      <th>0</th>\n",
              "      <td>London</td>\n",
              "      <td>540</td>\n",
              "    </tr>\n",
              "    <tr>\n",
              "      <th>1</th>\n",
              "      <td>United States</td>\n",
              "      <td>528</td>\n",
              "    </tr>\n",
              "    <tr>\n",
              "      <th>2</th>\n",
              "      <td>London, England</td>\n",
              "      <td>520</td>\n",
              "    </tr>\n",
              "    <tr>\n",
              "      <th>3</th>\n",
              "      <td>New York, NY</td>\n",
              "      <td>395</td>\n",
              "    </tr>\n",
              "    <tr>\n",
              "      <th>4</th>\n",
              "      <td>Washington, DC</td>\n",
              "      <td>373</td>\n",
              "    </tr>\n",
              "    <tr>\n",
              "      <th>...</th>\n",
              "      <td>...</td>\n",
              "      <td>...</td>\n",
              "    </tr>\n",
              "    <tr>\n",
              "      <th>12215</th>\n",
              "      <td>Staffordshire Moorlands</td>\n",
              "      <td>1</td>\n",
              "    </tr>\n",
              "    <tr>\n",
              "      <th>12216</th>\n",
              "      <td>Kithchener ON</td>\n",
              "      <td>1</td>\n",
              "    </tr>\n",
              "    <tr>\n",
              "      <th>12217</th>\n",
              "      <td>Tulsa, Ok</td>\n",
              "      <td>1</td>\n",
              "    </tr>\n",
              "    <tr>\n",
              "      <th>12218</th>\n",
              "      <td>Watford, South Oxhey, Bushey</td>\n",
              "      <td>1</td>\n",
              "    </tr>\n",
              "    <tr>\n",
              "      <th>12219</th>\n",
              "      <td>i love you so much || he/him</td>\n",
              "      <td>1</td>\n",
              "    </tr>\n",
              "  </tbody>\n",
              "</table>\n",
              "<p>12220 rows × 2 columns</p>\n",
              "</div>\n",
              "      <button class=\"colab-df-convert\" onclick=\"convertToInteractive('df-cbbec804-6980-489d-8602-6ff2c4c7b281')\"\n",
              "              title=\"Convert this dataframe to an interactive table.\"\n",
              "              style=\"display:none;\">\n",
              "        \n",
              "  <svg xmlns=\"http://www.w3.org/2000/svg\" height=\"24px\"viewBox=\"0 0 24 24\"\n",
              "       width=\"24px\">\n",
              "    <path d=\"M0 0h24v24H0V0z\" fill=\"none\"/>\n",
              "    <path d=\"M18.56 5.44l.94 2.06.94-2.06 2.06-.94-2.06-.94-.94-2.06-.94 2.06-2.06.94zm-11 1L8.5 8.5l.94-2.06 2.06-.94-2.06-.94L8.5 2.5l-.94 2.06-2.06.94zm10 10l.94 2.06.94-2.06 2.06-.94-2.06-.94-.94-2.06-.94 2.06-2.06.94z\"/><path d=\"M17.41 7.96l-1.37-1.37c-.4-.4-.92-.59-1.43-.59-.52 0-1.04.2-1.43.59L10.3 9.45l-7.72 7.72c-.78.78-.78 2.05 0 2.83L4 21.41c.39.39.9.59 1.41.59.51 0 1.02-.2 1.41-.59l7.78-7.78 2.81-2.81c.8-.78.8-2.07 0-2.86zM5.41 20L4 18.59l7.72-7.72 1.47 1.35L5.41 20z\"/>\n",
              "  </svg>\n",
              "      </button>\n",
              "      \n",
              "  <style>\n",
              "    .colab-df-container {\n",
              "      display:flex;\n",
              "      flex-wrap:wrap;\n",
              "      gap: 12px;\n",
              "    }\n",
              "\n",
              "    .colab-df-convert {\n",
              "      background-color: #E8F0FE;\n",
              "      border: none;\n",
              "      border-radius: 50%;\n",
              "      cursor: pointer;\n",
              "      display: none;\n",
              "      fill: #1967D2;\n",
              "      height: 32px;\n",
              "      padding: 0 0 0 0;\n",
              "      width: 32px;\n",
              "    }\n",
              "\n",
              "    .colab-df-convert:hover {\n",
              "      background-color: #E2EBFA;\n",
              "      box-shadow: 0px 1px 2px rgba(60, 64, 67, 0.3), 0px 1px 3px 1px rgba(60, 64, 67, 0.15);\n",
              "      fill: #174EA6;\n",
              "    }\n",
              "\n",
              "    [theme=dark] .colab-df-convert {\n",
              "      background-color: #3B4455;\n",
              "      fill: #D2E3FC;\n",
              "    }\n",
              "\n",
              "    [theme=dark] .colab-df-convert:hover {\n",
              "      background-color: #434B5C;\n",
              "      box-shadow: 0px 1px 3px 1px rgba(0, 0, 0, 0.15);\n",
              "      filter: drop-shadow(0px 1px 2px rgba(0, 0, 0, 0.3));\n",
              "      fill: #FFFFFF;\n",
              "    }\n",
              "  </style>\n",
              "\n",
              "      <script>\n",
              "        const buttonEl =\n",
              "          document.querySelector('#df-cbbec804-6980-489d-8602-6ff2c4c7b281 button.colab-df-convert');\n",
              "        buttonEl.style.display =\n",
              "          google.colab.kernel.accessAllowed ? 'block' : 'none';\n",
              "\n",
              "        async function convertToInteractive(key) {\n",
              "          const element = document.querySelector('#df-cbbec804-6980-489d-8602-6ff2c4c7b281');\n",
              "          const dataTable =\n",
              "            await google.colab.kernel.invokeFunction('convertToInteractive',\n",
              "                                                     [key], {});\n",
              "          if (!dataTable) return;\n",
              "\n",
              "          const docLinkHtml = 'Like what you see? Visit the ' +\n",
              "            '<a target=\"_blank\" href=https://colab.research.google.com/notebooks/data_table.ipynb>data table notebook</a>'\n",
              "            + ' to learn more about interactive tables.';\n",
              "          element.innerHTML = '';\n",
              "          dataTable['output_type'] = 'display_data';\n",
              "          await google.colab.output.renderOutput(dataTable, element);\n",
              "          const docLink = document.createElement('div');\n",
              "          docLink.innerHTML = docLinkHtml;\n",
              "          element.appendChild(docLink);\n",
              "        }\n",
              "      </script>\n",
              "    </div>\n",
              "  </div>\n",
              "  "
            ],
            "text/plain": [
              "                           Location  Count\n",
              "0                            London    540\n",
              "1                     United States    528\n",
              "2                   London, England    520\n",
              "3                      New York, NY    395\n",
              "4                    Washington, DC    373\n",
              "...                             ...    ...\n",
              "12215       Staffordshire Moorlands      1\n",
              "12216                 Kithchener ON      1\n",
              "12217                     Tulsa, Ok      1\n",
              "12218  Watford, South Oxhey, Bushey      1\n",
              "12219  i love you so much || he/him      1\n",
              "\n",
              "[12220 rows x 2 columns]"
            ]
          },
          "execution_count": 124,
          "metadata": {},
          "output_type": "execute_result"
        }
      ],
      "source": [
        "#Number of tweets in each location\n",
        "Location_df = df['Location'].value_counts().rename_axis('Location').reset_index(name='Count')\n",
        "Location_df"
      ]
    },
    {
      "cell_type": "code",
      "execution_count": null,
      "metadata": {
        "colab": {
          "base_uri": "https://localhost:8080/",
          "height": 363
        },
        "id": "4ADT3y551xel",
        "outputId": "7622f416-f91a-4ee6-95b7-d79676161124"
      },
      "outputs": [
        {
          "data": {
            "text/html": [
              "\n",
              "  <div id=\"df-76dcdd45-7d68-4e07-bcd3-0dc4b6378cac\">\n",
              "    <div class=\"colab-df-container\">\n",
              "      <div>\n",
              "<style scoped>\n",
              "    .dataframe tbody tr th:only-of-type {\n",
              "        vertical-align: middle;\n",
              "    }\n",
              "\n",
              "    .dataframe tbody tr th {\n",
              "        vertical-align: top;\n",
              "    }\n",
              "\n",
              "    .dataframe thead th {\n",
              "        text-align: right;\n",
              "    }\n",
              "</style>\n",
              "<table border=\"1\" class=\"dataframe\">\n",
              "  <thead>\n",
              "    <tr style=\"text-align: right;\">\n",
              "      <th></th>\n",
              "      <th>Location</th>\n",
              "      <th>Count</th>\n",
              "    </tr>\n",
              "  </thead>\n",
              "  <tbody>\n",
              "    <tr>\n",
              "      <th>0</th>\n",
              "      <td>London</td>\n",
              "      <td>540</td>\n",
              "    </tr>\n",
              "    <tr>\n",
              "      <th>1</th>\n",
              "      <td>United States</td>\n",
              "      <td>528</td>\n",
              "    </tr>\n",
              "    <tr>\n",
              "      <th>2</th>\n",
              "      <td>London, England</td>\n",
              "      <td>520</td>\n",
              "    </tr>\n",
              "    <tr>\n",
              "      <th>3</th>\n",
              "      <td>New York, NY</td>\n",
              "      <td>395</td>\n",
              "    </tr>\n",
              "    <tr>\n",
              "      <th>4</th>\n",
              "      <td>Washington, DC</td>\n",
              "      <td>373</td>\n",
              "    </tr>\n",
              "    <tr>\n",
              "      <th>5</th>\n",
              "      <td>United Kingdom</td>\n",
              "      <td>337</td>\n",
              "    </tr>\n",
              "    <tr>\n",
              "      <th>6</th>\n",
              "      <td>Los Angeles, CA</td>\n",
              "      <td>281</td>\n",
              "    </tr>\n",
              "    <tr>\n",
              "      <th>7</th>\n",
              "      <td>India</td>\n",
              "      <td>268</td>\n",
              "    </tr>\n",
              "    <tr>\n",
              "      <th>8</th>\n",
              "      <td>UK</td>\n",
              "      <td>232</td>\n",
              "    </tr>\n",
              "    <tr>\n",
              "      <th>9</th>\n",
              "      <td>Australia</td>\n",
              "      <td>225</td>\n",
              "    </tr>\n",
              "  </tbody>\n",
              "</table>\n",
              "</div>\n",
              "      <button class=\"colab-df-convert\" onclick=\"convertToInteractive('df-76dcdd45-7d68-4e07-bcd3-0dc4b6378cac')\"\n",
              "              title=\"Convert this dataframe to an interactive table.\"\n",
              "              style=\"display:none;\">\n",
              "        \n",
              "  <svg xmlns=\"http://www.w3.org/2000/svg\" height=\"24px\"viewBox=\"0 0 24 24\"\n",
              "       width=\"24px\">\n",
              "    <path d=\"M0 0h24v24H0V0z\" fill=\"none\"/>\n",
              "    <path d=\"M18.56 5.44l.94 2.06.94-2.06 2.06-.94-2.06-.94-.94-2.06-.94 2.06-2.06.94zm-11 1L8.5 8.5l.94-2.06 2.06-.94-2.06-.94L8.5 2.5l-.94 2.06-2.06.94zm10 10l.94 2.06.94-2.06 2.06-.94-2.06-.94-.94-2.06-.94 2.06-2.06.94z\"/><path d=\"M17.41 7.96l-1.37-1.37c-.4-.4-.92-.59-1.43-.59-.52 0-1.04.2-1.43.59L10.3 9.45l-7.72 7.72c-.78.78-.78 2.05 0 2.83L4 21.41c.39.39.9.59 1.41.59.51 0 1.02-.2 1.41-.59l7.78-7.78 2.81-2.81c.8-.78.8-2.07 0-2.86zM5.41 20L4 18.59l7.72-7.72 1.47 1.35L5.41 20z\"/>\n",
              "  </svg>\n",
              "      </button>\n",
              "      \n",
              "  <style>\n",
              "    .colab-df-container {\n",
              "      display:flex;\n",
              "      flex-wrap:wrap;\n",
              "      gap: 12px;\n",
              "    }\n",
              "\n",
              "    .colab-df-convert {\n",
              "      background-color: #E8F0FE;\n",
              "      border: none;\n",
              "      border-radius: 50%;\n",
              "      cursor: pointer;\n",
              "      display: none;\n",
              "      fill: #1967D2;\n",
              "      height: 32px;\n",
              "      padding: 0 0 0 0;\n",
              "      width: 32px;\n",
              "    }\n",
              "\n",
              "    .colab-df-convert:hover {\n",
              "      background-color: #E2EBFA;\n",
              "      box-shadow: 0px 1px 2px rgba(60, 64, 67, 0.3), 0px 1px 3px 1px rgba(60, 64, 67, 0.15);\n",
              "      fill: #174EA6;\n",
              "    }\n",
              "\n",
              "    [theme=dark] .colab-df-convert {\n",
              "      background-color: #3B4455;\n",
              "      fill: #D2E3FC;\n",
              "    }\n",
              "\n",
              "    [theme=dark] .colab-df-convert:hover {\n",
              "      background-color: #434B5C;\n",
              "      box-shadow: 0px 1px 3px 1px rgba(0, 0, 0, 0.15);\n",
              "      filter: drop-shadow(0px 1px 2px rgba(0, 0, 0, 0.3));\n",
              "      fill: #FFFFFF;\n",
              "    }\n",
              "  </style>\n",
              "\n",
              "      <script>\n",
              "        const buttonEl =\n",
              "          document.querySelector('#df-76dcdd45-7d68-4e07-bcd3-0dc4b6378cac button.colab-df-convert');\n",
              "        buttonEl.style.display =\n",
              "          google.colab.kernel.accessAllowed ? 'block' : 'none';\n",
              "\n",
              "        async function convertToInteractive(key) {\n",
              "          const element = document.querySelector('#df-76dcdd45-7d68-4e07-bcd3-0dc4b6378cac');\n",
              "          const dataTable =\n",
              "            await google.colab.kernel.invokeFunction('convertToInteractive',\n",
              "                                                     [key], {});\n",
              "          if (!dataTable) return;\n",
              "\n",
              "          const docLinkHtml = 'Like what you see? Visit the ' +\n",
              "            '<a target=\"_blank\" href=https://colab.research.google.com/notebooks/data_table.ipynb>data table notebook</a>'\n",
              "            + ' to learn more about interactive tables.';\n",
              "          element.innerHTML = '';\n",
              "          dataTable['output_type'] = 'display_data';\n",
              "          await google.colab.output.renderOutput(dataTable, element);\n",
              "          const docLink = document.createElement('div');\n",
              "          docLink.innerHTML = docLinkHtml;\n",
              "          element.appendChild(docLink);\n",
              "        }\n",
              "      </script>\n",
              "    </div>\n",
              "  </div>\n",
              "  "
            ],
            "text/plain": [
              "          Location  Count\n",
              "0           London    540\n",
              "1    United States    528\n",
              "2  London, England    520\n",
              "3     New York, NY    395\n",
              "4   Washington, DC    373\n",
              "5   United Kingdom    337\n",
              "6  Los Angeles, CA    281\n",
              "7            India    268\n",
              "8               UK    232\n",
              "9        Australia    225"
            ]
          },
          "execution_count": 125,
          "metadata": {},
          "output_type": "execute_result"
        }
      ],
      "source": [
        "#top locations of tweet\n",
        "Location_df.head(10)"
      ]
    },
    {
      "cell_type": "code",
      "execution_count": null,
      "metadata": {
        "colab": {
          "base_uri": "https://localhost:8080/",
          "height": 728
        },
        "id": "FXPxupIBKs0A",
        "outputId": "66c04723-272b-48d4-8841-27360c12f1b4"
      },
      "outputs": [
        {
          "data": {
            "image/png": "[encoded data removed]",
            "text/plain": [
              "<Figure size 1080x720 with 1 Axes>"
            ]
          },
          "metadata": {},
          "output_type": "display_data"
        }
      ],
      "source": [
        "#Plotting countplot for top 10 locations\n",
        "plt.rcParams[\"figure.figsize\"]=(15,10)\n",
        "sns.barplot(Location_df['Location'][0:10], x = 'Location', y =Location_df['Count'][0:10], palette ='inferno').tick_params(axis='x', rotation=90)\n",
        "plt.title('Locations with the most number of tweets', fontsize = 30)\n",
        "plt.xlabel('Location', fontsize = 20)\n",
        "plt.ylabel('Count', fontsize = 25)\n",
        "plt.show()"
      ]
    },
    {
      "cell_type": "markdown",
      "metadata": {
        "id": "tkXqepP03DGT"
      },
      "source": [
        "####Most of the tweets are from United States, London and New York"
      ]
    },
    {
      "cell_type": "markdown",
      "metadata": {
        "id": "DTI2vZUt0fFw"
      },
      "source": [
        "##**Date Analysis**"
      ]
    },
    {
      "cell_type": "code",
      "execution_count": null,
      "metadata": {
        "id": "Lh5sWf_UqDYS"
      },
      "outputs": [],
      "source": [
        "#Converting the TweetAt column to a datetime object\n",
        "df[\"TweetAt\"] = pd.to_datetime(df[\"TweetAt\"])"
      ]
    },
    {
      "cell_type": "code",
      "execution_count": null,
      "metadata": {
        "colab": {
          "base_uri": "https://localhost:8080/"
        },
        "id": "Cac6vexER3-3",
        "outputId": "6da2c633-60cc-4d9e-a60f-3e5e19e58480"
      },
      "outputs": [
        {
          "name": "stdout",
          "output_type": "stream",
          "text": [
            "Our dataset contains tweets from 4th January 2020 to 4th December 2020\n"
          ]
        }
      ],
      "source": [
        "#Obtaining the time period of the dataset \n",
        "print(\"Our dataset contains tweets from {}th {} {} to {}th {} {}\".format(df[\"TweetAt\"].min().day, df[\"TweetAt\"].min().month_name(), df[\"TweetAt\"].min().year,\n",
        "         df[\"TweetAt\"].max().day, df[\"TweetAt\"].max().month_name(), df[\"TweetAt\"].max().year))"
      ]
    },
    {
      "cell_type": "code",
      "execution_count": null,
      "metadata": {
        "id": "a3LZHnipDVs2"
      },
      "outputs": [],
      "source": [
        "#Creating new column for day and month from date colum \"TweetAt\"\n",
        "df['day'] = pd.DatetimeIndex(df['TweetAt']).day\n",
        "df['month'] = pd.DatetimeIndex(df['TweetAt']).month\n",
        "#Creating a column containing name of the weekday\n",
        "df[\"week day\"]=pd.DatetimeIndex(df['TweetAt']).day_name()"
      ]
    },
    {
      "cell_type": "code",
      "execution_count": null,
      "metadata": {
        "colab": {
          "base_uri": "https://localhost:8080/",
          "height": 206
        },
        "id": "79CsWy1LC4gO",
        "outputId": "81390e7d-e43a-4275-fb2b-732c10f484d2"
      },
      "outputs": [
        {
          "data": {
            "text/html": [
              "\n",
              "  <div id=\"df-08f7e1c9-526e-4c18-b2ae-7c817fc9cac6\">\n",
              "    <div class=\"colab-df-container\">\n",
              "      <div>\n",
              "<style scoped>\n",
              "    .dataframe tbody tr th:only-of-type {\n",
              "        vertical-align: middle;\n",
              "    }\n",
              "\n",
              "    .dataframe tbody tr th {\n",
              "        vertical-align: top;\n",
              "    }\n",
              "\n",
              "    .dataframe thead th {\n",
              "        text-align: right;\n",
              "    }\n",
              "</style>\n",
              "<table border=\"1\" class=\"dataframe\">\n",
              "  <thead>\n",
              "    <tr style=\"text-align: right;\">\n",
              "      <th></th>\n",
              "      <th>Location</th>\n",
              "      <th>TweetAt</th>\n",
              "      <th>OriginalTweet</th>\n",
              "      <th>Sentiment</th>\n",
              "      <th>day</th>\n",
              "      <th>month</th>\n",
              "      <th>week day</th>\n",
              "    </tr>\n",
              "  </thead>\n",
              "  <tbody>\n",
              "    <tr>\n",
              "      <th>0</th>\n",
              "      <td>London</td>\n",
              "      <td>2020-03-16</td>\n",
              "      <td>@MeNyrbie @Phil_Gahan @Chrisitv https://t.co/i...</td>\n",
              "      <td>Neutral</td>\n",
              "      <td>16</td>\n",
              "      <td>3</td>\n",
              "      <td>Monday</td>\n",
              "    </tr>\n",
              "    <tr>\n",
              "      <th>1</th>\n",
              "      <td>UK</td>\n",
              "      <td>2020-03-16</td>\n",
              "      <td>advice Talk to your neighbours family to excha...</td>\n",
              "      <td>Positive</td>\n",
              "      <td>16</td>\n",
              "      <td>3</td>\n",
              "      <td>Monday</td>\n",
              "    </tr>\n",
              "    <tr>\n",
              "      <th>2</th>\n",
              "      <td>Vagabonds</td>\n",
              "      <td>2020-03-16</td>\n",
              "      <td>Coronavirus Australia: Woolworths to give elde...</td>\n",
              "      <td>Positive</td>\n",
              "      <td>16</td>\n",
              "      <td>3</td>\n",
              "      <td>Monday</td>\n",
              "    </tr>\n",
              "    <tr>\n",
              "      <th>3</th>\n",
              "      <td>NaN</td>\n",
              "      <td>2020-03-16</td>\n",
              "      <td>My food stock is not the only one which is emp...</td>\n",
              "      <td>Positive</td>\n",
              "      <td>16</td>\n",
              "      <td>3</td>\n",
              "      <td>Monday</td>\n",
              "    </tr>\n",
              "    <tr>\n",
              "      <th>4</th>\n",
              "      <td>NaN</td>\n",
              "      <td>2020-03-16</td>\n",
              "      <td>Me, ready to go at supermarket during the #COV...</td>\n",
              "      <td>Negative</td>\n",
              "      <td>16</td>\n",
              "      <td>3</td>\n",
              "      <td>Monday</td>\n",
              "    </tr>\n",
              "  </tbody>\n",
              "</table>\n",
              "</div>\n",
              "      <button class=\"colab-df-convert\" onclick=\"convertToInteractive('df-08f7e1c9-526e-4c18-b2ae-7c817fc9cac6')\"\n",
              "              title=\"Convert this dataframe to an interactive table.\"\n",
              "              style=\"display:none;\">\n",
              "        \n",
              "  <svg xmlns=\"http://www.w3.org/2000/svg\" height=\"24px\"viewBox=\"0 0 24 24\"\n",
              "       width=\"24px\">\n",
              "    <path d=\"M0 0h24v24H0V0z\" fill=\"none\"/>\n",
              "    <path d=\"M18.56 5.44l.94 2.06.94-2.06 2.06-.94-2.06-.94-.94-2.06-.94 2.06-2.06.94zm-11 1L8.5 8.5l.94-2.06 2.06-.94-2.06-.94L8.5 2.5l-.94 2.06-2.06.94zm10 10l.94 2.06.94-2.06 2.06-.94-2.06-.94-.94-2.06-.94 2.06-2.06.94z\"/><path d=\"M17.41 7.96l-1.37-1.37c-.4-.4-.92-.59-1.43-.59-.52 0-1.04.2-1.43.59L10.3 9.45l-7.72 7.72c-.78.78-.78 2.05 0 2.83L4 21.41c.39.39.9.59 1.41.59.51 0 1.02-.2 1.41-.59l7.78-7.78 2.81-2.81c.8-.78.8-2.07 0-2.86zM5.41 20L4 18.59l7.72-7.72 1.47 1.35L5.41 20z\"/>\n",
              "  </svg>\n",
              "      </button>\n",
              "      \n",
              "  <style>\n",
              "    .colab-df-container {\n",
              "      display:flex;\n",
              "      flex-wrap:wrap;\n",
              "      gap: 12px;\n",
              "    }\n",
              "\n",
              "    .colab-df-convert {\n",
              "      background-color: #E8F0FE;\n",
              "      border: none;\n",
              "      border-radius: 50%;\n",
              "      cursor: pointer;\n",
              "      display: none;\n",
              "      fill: #1967D2;\n",
              "      height: 32px;\n",
              "      padding: 0 0 0 0;\n",
              "      width: 32px;\n",
              "    }\n",
              "\n",
              "    .colab-df-convert:hover {\n",
              "      background-color: #E2EBFA;\n",
              "      box-shadow: 0px 1px 2px rgba(60, 64, 67, 0.3), 0px 1px 3px 1px rgba(60, 64, 67, 0.15);\n",
              "      fill: #174EA6;\n",
              "    }\n",
              "\n",
              "    [theme=dark] .colab-df-convert {\n",
              "      background-color: #3B4455;\n",
              "      fill: #D2E3FC;\n",
              "    }\n",
              "\n",
              "    [theme=dark] .colab-df-convert:hover {\n",
              "      background-color: #434B5C;\n",
              "      box-shadow: 0px 1px 3px 1px rgba(0, 0, 0, 0.15);\n",
              "      filter: drop-shadow(0px 1px 2px rgba(0, 0, 0, 0.3));\n",
              "      fill: #FFFFFF;\n",
              "    }\n",
              "  </style>\n",
              "\n",
              "      <script>\n",
              "        const buttonEl =\n",
              "          document.querySelector('#df-08f7e1c9-526e-4c18-b2ae-7c817fc9cac6 button.colab-df-convert');\n",
              "        buttonEl.style.display =\n",
              "          google.colab.kernel.accessAllowed ? 'block' : 'none';\n",
              "\n",
              "        async function convertToInteractive(key) {\n",
              "          const element = document.querySelector('#df-08f7e1c9-526e-4c18-b2ae-7c817fc9cac6');\n",
              "          const dataTable =\n",
              "            await google.colab.kernel.invokeFunction('convertToInteractive',\n",
              "                                                     [key], {});\n",
              "          if (!dataTable) return;\n",
              "\n",
              "          const docLinkHtml = 'Like what you see? Visit the ' +\n",
              "            '<a target=\"_blank\" href=https://colab.research.google.com/notebooks/data_table.ipynb>data table notebook</a>'\n",
              "            + ' to learn more about interactive tables.';\n",
              "          element.innerHTML = '';\n",
              "          dataTable['output_type'] = 'display_data';\n",
              "          await google.colab.output.renderOutput(dataTable, element);\n",
              "          const docLink = document.createElement('div');\n",
              "          docLink.innerHTML = docLinkHtml;\n",
              "          element.appendChild(docLink);\n",
              "        }\n",
              "      </script>\n",
              "    </div>\n",
              "  </div>\n",
              "  "
            ],
            "text/plain": [
              "    Location    TweetAt  ... month week day\n",
              "0     London 2020-03-16  ...     3   Monday\n",
              "1         UK 2020-03-16  ...     3   Monday\n",
              "2  Vagabonds 2020-03-16  ...     3   Monday\n",
              "3        NaN 2020-03-16  ...     3   Monday\n",
              "4        NaN 2020-03-16  ...     3   Monday\n",
              "\n",
              "[5 rows x 7 columns]"
            ]
          },
          "execution_count": 130,
          "metadata": {},
          "output_type": "execute_result"
        }
      ],
      "source": [
        "#Checking the top 5 row of our dataset\n",
        "df.head()"
      ]
    },
    {
      "cell_type": "code",
      "execution_count": null,
      "metadata": {
        "colab": {
          "base_uri": "https://localhost:8080/",
          "height": 557
        },
        "id": "EhQp4BItiyJ5",
        "outputId": "82a3340e-3a53-4e76-cd03-fd54c0602446"
      },
      "outputs": [
        {
          "data": {
            "image/png": "[encoded data removed]",
            "text/plain": [
              "<Figure size 720x648 with 1 Axes>"
            ]
          },
          "metadata": {},
          "output_type": "display_data"
        }
      ],
      "source": [
        "#Plotting total number of tweets for each sentiment over the months\n",
        "plt.rcParams[\"figure.figsize\"]=(10,9)\n",
        "ax = sns.countplot(x=\"month\", hue=\"Sentiment\", data=df)\n",
        "plt.ylabel(\"Number of tweets\")\n",
        "plt.show()"
      ]
    },
    {
      "cell_type": "markdown",
      "metadata": {
        "id": "0qhNYYIgKFy_"
      },
      "source": [
        "####It is clear the most number of tweets was created in the month of March.\n",
        "####Let's analyze the tweet count on a daily basis in the month of March "
      ]
    },
    {
      "cell_type": "code",
      "execution_count": null,
      "metadata": {
        "colab": {
          "base_uri": "https://localhost:8080/",
          "height": 573
        },
        "id": "-18rVq8Ki2o-",
        "outputId": "f8af1921-4722-448a-fb79-89848e232c76"
      },
      "outputs": [
        {
          "data": {
            "image/png": "[encoded data removed]",
            "text/plain": [
              "<Figure size 720x648 with 1 Axes>"
            ]
          },
          "metadata": {},
          "output_type": "display_data"
        }
      ],
      "source": [
        "#Creating a subset of our dataframe that will only contains tweets from the month of march\n",
        "day_analysis = df[df[\"month\"] == 3].copy()\n",
        "#Grouping our dataset on the basis of Day and sentiment to get the number of tweets tweeted on each day in the month of march belonging to each sentiment\n",
        "daySentiment_groupby = day_analysis.groupby([\"day\" , \"Sentiment\"]).agg({ \"OriginalTweet\" : \"count\"}).reset_index()\n",
        "sns.lineplot(x = \"day\" , y =\"OriginalTweet\" , hue=\"Sentiment\" ,  data = daySentiment_groupby , palette = 'bright' )\n",
        "plt.title(\"Number of tweets in the month of March\")\n",
        "plt.ylabel(\"Number of tweets\")\n",
        "plt.show()"
      ]
    },
    {
      "cell_type": "markdown",
      "metadata": {
        "id": "eZp4kx-1Sfzs"
      },
      "source": [
        "####Let's check out the day when people tweet the most."
      ]
    },
    {
      "cell_type": "code",
      "execution_count": null,
      "metadata": {
        "colab": {
          "base_uri": "https://localhost:8080/",
          "height": 558
        },
        "id": "_IKiMurzEPBb",
        "outputId": "5e547a07-4ff7-48d0-da16-3f1a032bd8d4"
      },
      "outputs": [
        {
          "data": {
            "image/png": "[encoded data removed]",
            "text/plain": [
              "<Figure size 720x648 with 1 Axes>"
            ]
          },
          "metadata": {},
          "output_type": "display_data"
        }
      ],
      "source": [
        "#Checking the day on which more tweets are being created\n",
        "ax = sns.countplot(x=\"week day\", hue=\"Sentiment\", data=df)"
      ]
    },
    {
      "cell_type": "markdown",
      "metadata": {
        "id": "BncYQ9A8CGtr"
      },
      "source": [
        "##**Tweet length analysis**"
      ]
    },
    {
      "cell_type": "markdown",
      "metadata": {
        "id": "nOsXFNfgLpkb"
      },
      "source": [
        "####Lets us try to get insights regarding tweet length.\n"
      ]
    },
    {
      "cell_type": "code",
      "execution_count": null,
      "metadata": {
        "colab": {
          "base_uri": "https://localhost:8080/",
          "height": 206
        },
        "id": "O4DeH1g62zXl",
        "outputId": "a4508484-cb35-4d8a-9a72-e9da85491372"
      },
      "outputs": [
        {
          "data": {
            "text/html": [
              "\n",
              "  <div id=\"df-e8557fd3-7818-4685-97c0-9b0b46645692\">\n",
              "    <div class=\"colab-df-container\">\n",
              "      <div>\n",
              "<style scoped>\n",
              "    .dataframe tbody tr th:only-of-type {\n",
              "        vertical-align: middle;\n",
              "    }\n",
              "\n",
              "    .dataframe tbody tr th {\n",
              "        vertical-align: top;\n",
              "    }\n",
              "\n",
              "    .dataframe thead th {\n",
              "        text-align: right;\n",
              "    }\n",
              "</style>\n",
              "<table border=\"1\" class=\"dataframe\">\n",
              "  <thead>\n",
              "    <tr style=\"text-align: right;\">\n",
              "      <th></th>\n",
              "      <th>Location</th>\n",
              "      <th>TweetAt</th>\n",
              "      <th>OriginalTweet</th>\n",
              "      <th>Sentiment</th>\n",
              "      <th>day</th>\n",
              "      <th>month</th>\n",
              "      <th>week day</th>\n",
              "      <th>length</th>\n",
              "    </tr>\n",
              "  </thead>\n",
              "  <tbody>\n",
              "    <tr>\n",
              "      <th>0</th>\n",
              "      <td>London</td>\n",
              "      <td>2020-03-16</td>\n",
              "      <td>@MeNyrbie @Phil_Gahan @Chrisitv https://t.co/i...</td>\n",
              "      <td>Neutral</td>\n",
              "      <td>16</td>\n",
              "      <td>3</td>\n",
              "      <td>Monday</td>\n",
              "      <td>111</td>\n",
              "    </tr>\n",
              "    <tr>\n",
              "      <th>1</th>\n",
              "      <td>UK</td>\n",
              "      <td>2020-03-16</td>\n",
              "      <td>advice Talk to your neighbours family to excha...</td>\n",
              "      <td>Positive</td>\n",
              "      <td>16</td>\n",
              "      <td>3</td>\n",
              "      <td>Monday</td>\n",
              "      <td>237</td>\n",
              "    </tr>\n",
              "    <tr>\n",
              "      <th>2</th>\n",
              "      <td>Vagabonds</td>\n",
              "      <td>2020-03-16</td>\n",
              "      <td>Coronavirus Australia: Woolworths to give elde...</td>\n",
              "      <td>Positive</td>\n",
              "      <td>16</td>\n",
              "      <td>3</td>\n",
              "      <td>Monday</td>\n",
              "      <td>131</td>\n",
              "    </tr>\n",
              "    <tr>\n",
              "      <th>3</th>\n",
              "      <td>NaN</td>\n",
              "      <td>2020-03-16</td>\n",
              "      <td>My food stock is not the only one which is emp...</td>\n",
              "      <td>Positive</td>\n",
              "      <td>16</td>\n",
              "      <td>3</td>\n",
              "      <td>Monday</td>\n",
              "      <td>306</td>\n",
              "    </tr>\n",
              "    <tr>\n",
              "      <th>4</th>\n",
              "      <td>NaN</td>\n",
              "      <td>2020-03-16</td>\n",
              "      <td>Me, ready to go at supermarket during the #COV...</td>\n",
              "      <td>Negative</td>\n",
              "      <td>16</td>\n",
              "      <td>3</td>\n",
              "      <td>Monday</td>\n",
              "      <td>310</td>\n",
              "    </tr>\n",
              "  </tbody>\n",
              "</table>\n",
              "</div>\n",
              "      <button class=\"colab-df-convert\" onclick=\"convertToInteractive('df-e8557fd3-7818-4685-97c0-9b0b46645692')\"\n",
              "              title=\"Convert this dataframe to an interactive table.\"\n",
              "              style=\"display:none;\">\n",
              "        \n",
              "  <svg xmlns=\"http://www.w3.org/2000/svg\" height=\"24px\"viewBox=\"0 0 24 24\"\n",
              "       width=\"24px\">\n",
              "    <path d=\"M0 0h24v24H0V0z\" fill=\"none\"/>\n",
              "    <path d=\"M18.56 5.44l.94 2.06.94-2.06 2.06-.94-2.06-.94-.94-2.06-.94 2.06-2.06.94zm-11 1L8.5 8.5l.94-2.06 2.06-.94-2.06-.94L8.5 2.5l-.94 2.06-2.06.94zm10 10l.94 2.06.94-2.06 2.06-.94-2.06-.94-.94-2.06-.94 2.06-2.06.94z\"/><path d=\"M17.41 7.96l-1.37-1.37c-.4-.4-.92-.59-1.43-.59-.52 0-1.04.2-1.43.59L10.3 9.45l-7.72 7.72c-.78.78-.78 2.05 0 2.83L4 21.41c.39.39.9.59 1.41.59.51 0 1.02-.2 1.41-.59l7.78-7.78 2.81-2.81c.8-.78.8-2.07 0-2.86zM5.41 20L4 18.59l7.72-7.72 1.47 1.35L5.41 20z\"/>\n",
              "  </svg>\n",
              "      </button>\n",
              "      \n",
              "  <style>\n",
              "    .colab-df-container {\n",
              "      display:flex;\n",
              "      flex-wrap:wrap;\n",
              "      gap: 12px;\n",
              "    }\n",
              "\n",
              "    .colab-df-convert {\n",
              "      background-color: #E8F0FE;\n",
              "      border: none;\n",
              "      border-radius: 50%;\n",
              "      cursor: pointer;\n",
              "      display: none;\n",
              "      fill: #1967D2;\n",
              "      height: 32px;\n",
              "      padding: 0 0 0 0;\n",
              "      width: 32px;\n",
              "    }\n",
              "\n",
              "    .colab-df-convert:hover {\n",
              "      background-color: #E2EBFA;\n",
              "      box-shadow: 0px 1px 2px rgba(60, 64, 67, 0.3), 0px 1px 3px 1px rgba(60, 64, 67, 0.15);\n",
              "      fill: #174EA6;\n",
              "    }\n",
              "\n",
              "    [theme=dark] .colab-df-convert {\n",
              "      background-color: #3B4455;\n",
              "      fill: #D2E3FC;\n",
              "    }\n",
              "\n",
              "    [theme=dark] .colab-df-convert:hover {\n",
              "      background-color: #434B5C;\n",
              "      box-shadow: 0px 1px 3px 1px rgba(0, 0, 0, 0.15);\n",
              "      filter: drop-shadow(0px 1px 2px rgba(0, 0, 0, 0.3));\n",
              "      fill: #FFFFFF;\n",
              "    }\n",
              "  </style>\n",
              "\n",
              "      <script>\n",
              "        const buttonEl =\n",
              "          document.querySelector('#df-e8557fd3-7818-4685-97c0-9b0b46645692 button.colab-df-convert');\n",
              "        buttonEl.style.display =\n",
              "          google.colab.kernel.accessAllowed ? 'block' : 'none';\n",
              "\n",
              "        async function convertToInteractive(key) {\n",
              "          const element = document.querySelector('#df-e8557fd3-7818-4685-97c0-9b0b46645692');\n",
              "          const dataTable =\n",
              "            await google.colab.kernel.invokeFunction('convertToInteractive',\n",
              "                                                     [key], {});\n",
              "          if (!dataTable) return;\n",
              "\n",
              "          const docLinkHtml = 'Like what you see? Visit the ' +\n",
              "            '<a target=\"_blank\" href=https://colab.research.google.com/notebooks/data_table.ipynb>data table notebook</a>'\n",
              "            + ' to learn more about interactive tables.';\n",
              "          element.innerHTML = '';\n",
              "          dataTable['output_type'] = 'display_data';\n",
              "          await google.colab.output.renderOutput(dataTable, element);\n",
              "          const docLink = document.createElement('div');\n",
              "          docLink.innerHTML = docLinkHtml;\n",
              "          element.appendChild(docLink);\n",
              "        }\n",
              "      </script>\n",
              "    </div>\n",
              "  </div>\n",
              "  "
            ],
            "text/plain": [
              "    Location    TweetAt  ... week day length\n",
              "0     London 2020-03-16  ...   Monday    111\n",
              "1         UK 2020-03-16  ...   Monday    237\n",
              "2  Vagabonds 2020-03-16  ...   Monday    131\n",
              "3        NaN 2020-03-16  ...   Monday    306\n",
              "4        NaN 2020-03-16  ...   Monday    310\n",
              "\n",
              "[5 rows x 8 columns]"
            ]
          },
          "execution_count": 134,
          "metadata": {},
          "output_type": "execute_result"
        }
      ],
      "source": [
        "#Creating a new column 'length' by calculating the length of tweets\n",
        "df['length']=df['OriginalTweet'].apply(len)\n",
        "df.head()"
      ]
    },
    {
      "cell_type": "code",
      "execution_count": null,
      "metadata": {
        "colab": {
          "base_uri": "https://localhost:8080/",
          "height": 559
        },
        "id": "b_xnNvjvyyTU",
        "outputId": "8de19341-6884-4635-8059-31cad3280ffd"
      },
      "outputs": [
        {
          "data": {
            "text/plain": [
              "<matplotlib.axes._subplots.AxesSubplot at 0x7fca228aaa50>"
            ]
          },
          "execution_count": 135,
          "metadata": {},
          "output_type": "execute_result"
        },
        {
          "data": {
            "image/png": "[encoded data removed]",
            "text/plain": [
              "<Figure size 720x648 with 1 Axes>"
            ]
          },
          "metadata": {},
          "output_type": "display_data"
        }
      ],
      "source": [
        "#Checking distribution of length of tweets\n",
        "df['length'].plot(bins=50,kind='hist')"
      ]
    },
    {
      "cell_type": "code",
      "execution_count": null,
      "metadata": {
        "id": "LrnXgR1D-iTx"
      },
      "outputs": [],
      "source": [
        "def show_dist(df, col):\n",
        "\n",
        "  '''Function is to show distribution of any particular column for each of the different sentiment'''\n",
        "\n",
        "  bins = np.arange(df[col].min(), df[col].max() + 1)\n",
        "  g = sns.FacetGrid(df, col='Sentiment', height=5, hue='Sentiment', palette=\"bright\")\n",
        "  g = g.map(sns.histplot, col, kde=False, bins=bins)"
      ]
    },
    {
      "cell_type": "code",
      "execution_count": null,
      "metadata": {
        "colab": {
          "base_uri": "https://localhost:8080/"
        },
        "id": "DFrvETMPQtQj",
        "outputId": "d53c7eec-aa82-4c52-9991-630893769d4e"
      },
      "outputs": [
        {
          "data": {
            "image/png": "[encoded data removed]",
            "text/plain": [
              "<Figure size 1080x360 with 3 Axes>"
            ]
          },
          "metadata": {},
          "output_type": "display_data"
        }
      ],
      "source": [
        "#Creating a new column named \"Number Of Words\" to store the number of words in each tweet\n",
        "df[\"Number Of Words\"] = df[\"OriginalTweet\"].str.split().apply(len)\n",
        "\n",
        "show_dist(df , 'Number Of Words')"
      ]
    },
    {
      "cell_type": "markdown",
      "metadata": {
        "id": "dfgR4qYpHgm_"
      },
      "source": [
        "####The number of words present in tweets of neutral sentiment is far less when compared to tweets with a positive or negative sentiment . Most of the positive and negative sentiment tweets contain almost 40 words on average."
      ]
    },
    {
      "cell_type": "code",
      "execution_count": null,
      "metadata": {
        "colab": {
          "base_uri": "https://localhost:8080/",
          "height": 369
        },
        "id": "AK7Pk87l--qI",
        "outputId": "bd89ab7c-4532-445e-8bde-bf970537cd31"
      },
      "outputs": [
        {
          "data": {
            "image/png": "[encoded data removed]",
            "text/plain": [
              "<Figure size 1080x360 with 3 Axes>"
            ]
          },
          "metadata": {},
          "output_type": "display_data"
        }
      ],
      "source": [
        "#Creating a new column named \"Number Of Mentions\" to store the number of mentions in each tweet\n",
        "df[\"Number Of Mentions\"] = df[\"OriginalTweet\"].apply(lambda tweet : len(re.findall(r'@[^\\s]+', tweet)))\n",
        "\n",
        "show_dist(df, \"Number Of Mentions\")"
      ]
    },
    {
      "cell_type": "markdown",
      "metadata": {
        "id": "EuKMNKLALKqw"
      },
      "source": [
        "####Most of the tweets contain no mention and there is no particular relationship between  number of mentions and regard the sentiment."
      ]
    },
    {
      "cell_type": "code",
      "execution_count": null,
      "metadata": {
        "id": "KsKv-0AdATy3"
      },
      "outputs": [],
      "source": [
        "#Creating a new columns named \"Number Of Hashtags\" to store the number of hastags in each tweet\n",
        "df[\"Number Of Hashtags\"] = df[\"OriginalTweet\"].apply(lambda tweet : len(re.findall(r'#[^\\s]+', tweet)))\n",
        "\n",
        "show_dist(df, \"Number Of Hashtags\")"
      ]
    },
    {
      "cell_type": "markdown",
      "metadata": {
        "id": "R2cq0ATFQJk-"
      },
      "source": [
        "####Most of the tweets do not contain a hashtag. Again, the number of hashtags has nothing to do with the sentiment."
      ]
    },
    {
      "cell_type": "markdown",
      "metadata": {
        "id": "J5MXeUdZpX81"
      },
      "source": [
        "##**Extract hashtags**"
      ]
    },
    {
      "cell_type": "markdown",
      "metadata": {
        "id": "DnfOVTHa3_UC"
      },
      "source": [
        "###Let's now try to understand the impact of hashtags on tweets sentiment"
      ]
    },
    {
      "cell_type": "code",
      "execution_count": null,
      "metadata": {
        "id": "9Q_fTA4mEzmW"
      },
      "outputs": [],
      "source": [
        "def extract_hash_tags(s):\n",
        "  return [part[1:] for part in s.split() if part.startswith('#')]\n",
        "df['hashtags']=df['OriginalTweet'].apply(extract_hash_tags)"
      ]
    },
    {
      "cell_type": "code",
      "execution_count": null,
      "metadata": {
        "id": "IJJrbxGPycgM"
      },
      "outputs": [],
      "source": [
        "#Creating a new dataframe containing hashtags and their count\n",
        "d = Counter(df.hashtags.sum())\n",
        "hashtags= pd.DataFrame([d]).T"
      ]
    },
    {
      "cell_type": "code",
      "execution_count": null,
      "metadata": {
        "id": "GB0jCnT30v8X"
      },
      "outputs": [],
      "source": [
        "#Renaming the columns and resetting the index\n",
        "hashtags.rename_axis('hashtag',inplace=True)\n",
        "hashtags.rename(columns={0:\"Count\"},inplace=True)\n",
        "hashtags=hashtags.reset_index()"
      ]
    },
    {
      "cell_type": "code",
      "execution_count": null,
      "metadata": {
        "id": "mWQ2UhaGykV6"
      },
      "outputs": [],
      "source": [
        "#Sorting the hashtags based on their count\n",
        "hashtags.sort_values(by='Count',ascending=False,inplace=True)"
      ]
    },
    {
      "cell_type": "code",
      "execution_count": null,
      "metadata": {
        "id": "717vxzrIX2QK"
      },
      "outputs": [],
      "source": [
        "#Checking the dataframe\n",
        "hashtags"
      ]
    },
    {
      "cell_type": "code",
      "execution_count": null,
      "metadata": {
        "id": "dtw6Xb9DfF-a"
      },
      "outputs": [],
      "source": [
        "#Creating a pie plot to show the top 10 hashtag and their relative percentage share among themselves\n",
        "data = {\n",
        "   \"values\": hashtags['Count'][:10],\n",
        "   \"labels\": hashtags[\"hashtag\"][:10],\n",
        "   \"domain\": {\"column\": 0},\n",
        "   \"name\": \"hashtags\",\n",
        "   \"hoverinfo\":\"label+percent+name\",\n",
        "   \"hole\": .4,\n",
        "   \"type\": \"pie\"\n",
        "}\n",
        "#Providing title for the plot\n",
        "layout = go.Layout(title=\"<b>Relative Percentage of top 10 Hashtag</b>\", legend=dict(x=0.9, y=0.8, orientation=\"v\"))\n",
        "#Ploting\n",
        "data = [data]\n",
        "fig = go.Figure(data = data, layout = layout)\n",
        "fig.update_layout(title_x=0.5)\n",
        "fig.show()"
      ]
    },
    {
      "cell_type": "markdown",
      "metadata": {
        "id": "YA4O9_ir4KvF"
      },
      "source": [
        "####\"Coronavirus\" is the most used hashtag.\n",
        "####Let's create a word cloud to visualize the hashtags"
      ]
    },
    {
      "cell_type": "code",
      "execution_count": null,
      "metadata": {
        "id": "s6BXrY8Q4INu"
      },
      "outputs": [],
      "source": [
        "#Creating a dictionary containing hash tag and it's count\n",
        "data = dict(zip(hashtags['hashtag'].tolist(), hashtags['Count'].tolist()))\n",
        "#Generate word cloud of hash tags based on their frequency\n",
        "wc = WordCloud(width=800, height=400, max_words=200,background_color = 'black').generate_from_frequencies(data)\n",
        "#Providing figure size\n",
        "plt.figure(figsize=(10, 10))\n",
        "#plotting\n",
        "plt.imshow(wc, interpolation='bilinear')\n",
        "plt.axis('off')\n",
        "plt.show()\n"
      ]
    },
    {
      "cell_type": "code",
      "execution_count": null,
      "metadata": {
        "id": "gAH3HtndnlyT"
      },
      "outputs": [],
      "source": [
        "df.head()"
      ]
    },
    {
      "cell_type": "code",
      "execution_count": null,
      "metadata": {
        "id": "5vVicl_qroy5"
      },
      "outputs": [],
      "source": [
        "#Creating subsets of the dataframe based on sentiment category Positive, Negative and Neutral\n",
        "Positive_tweet = df[df[\"Sentiment\"] == \"Positive\"]\n",
        "Negative_tweet = df[df[\"Sentiment\"] == \"Negative\"]\n",
        "Neutral_tweet = df[df[\"Sentiment\"] == \"Neutral\"]"
      ]
    },
    {
      "cell_type": "code",
      "execution_count": null,
      "metadata": {
        "id": "BwQI4MVkbO4p"
      },
      "outputs": [],
      "source": [
        "def hashtag_freq_graph(df):\n",
        "  '''This function gives the frequency bar graph of the hashtags'''\n",
        "  #Extracting hashtags from tweets\n",
        "  df['hashtag'] = df['OriginalTweet'].apply(lambda twt : re.findall(r\"#(\\w+)\", twt))\n",
        "  #Taking value count on hashtags\n",
        "  hashtags=df.OriginalTweet.str.extractall(r'(\\#\\w+)')[0].value_counts().reset_index()\n",
        "  #renaming the columns\n",
        "  hashtags.rename(columns={'index':\"hashtag\",0:'freq'},inplace=True)\n",
        "\n",
        "  #Keeping only 15  most frequently used hashtags \n",
        "  hashtags=hashtags[:15]\n",
        "  #Seting figuresize\n",
        "  sns.set(rc = {'figure.figsize':(15,8)})\n",
        "  #Ploting frequency against hashtag\n",
        "  sns.barplot(x=\"hashtag\" , y =\"freq\" , data = hashtags , palette = \"bright\")\n",
        "  plt.xticks(rotation=45)\n",
        "  plt.show()"
      ]
    },
    {
      "cell_type": "code",
      "execution_count": null,
      "metadata": {
        "colab": {
          "background_save": true
        },
        "id": "lr6EvuelcVWl",
        "outputId": "890b29db-196e-4f89-d734-d9afc1f84ede"
      },
      "outputs": [
        {
          "data": {
            "image/png": "[encoded data removed]",
            "text/plain": [
              "<Figure size 1080x576 with 1 Axes>"
            ]
          },
          "metadata": {},
          "output_type": "display_data"
        }
      ],
      "source": [
        "#Calling hashtag_freq_graph on positive tweet dataframe\n",
        "hashtag_freq_graph(Positive_tweet)"
      ]
    },
    {
      "cell_type": "code",
      "execution_count": null,
      "metadata": {
        "colab": {
          "background_save": true
        },
        "id": "bxN_Z9t4ehPX",
        "outputId": "544a0ffa-2845-4faa-a2ff-a4c469672c44"
      },
      "outputs": [
        {
          "data": {
            "image/png": "[encoded data removed]",
            "text/plain": [
              "<Figure size 1080x576 with 1 Axes>"
            ]
          },
          "metadata": {},
          "output_type": "display_data"
        }
      ],
      "source": [
        "#Calling hashtag_freq_graph on negative tweet dataframe\n",
        "hashtag_freq_graph(Negative_tweet)"
      ]
    },
    {
      "cell_type": "code",
      "execution_count": null,
      "metadata": {
        "colab": {
          "background_save": true
        },
        "id": "9fPQ_c0welBi",
        "outputId": "790ce3cc-2bb0-46b6-a7c6-ef4c09468059"
      },
      "outputs": [
        {
          "data": {
            "image/png": "[encoded data removed]",
            "text/plain": [
              "<Figure size 1080x576 with 1 Axes>"
            ]
          },
          "metadata": {},
          "output_type": "display_data"
        }
      ],
      "source": [
        "#Calling hashtag_freq_graph on neutral tweet dataframe\n",
        "hashtag_freq_graph(Neutral_tweet)"
      ]
    },
    {
      "cell_type": "markdown",
      "metadata": {
        "id": "Hal-8uykkZWJ"
      },
      "source": [
        "####By looking at the bar graphs for positive and negative sentiment we can conclude that the hastags like #StayHomesaveLives are much more used in tweets of positive sentiment as compared to the negative sentiment tweets on the other hand hashtags like #panicbuying are more frequently used in negative sentiment tweets"
      ]
    },
    {
      "cell_type": "markdown",
      "metadata": {
        "id": "aRU2XoPSweKV"
      },
      "source": [
        "##**Tokenization**"
      ]
    },
    {
      "cell_type": "markdown",
      "metadata": {
        "id": "x4Ga5EMyi5dS"
      },
      "source": [
        "####Tokenization is the term used to describe the process of converting the normal text strings in to a list of tokens"
      ]
    },
    {
      "cell_type": "code",
      "execution_count": null,
      "metadata": {
        "colab": {
          "background_save": true
        },
        "id": "-KmXzA5xAieY"
      },
      "outputs": [],
      "source": [
        "#Importing Libraries for NLP\n",
        "import nltk\n",
        "import string\n",
        "from nltk.corpus import stopwords\n",
        "from nltk.stem.snowball import SnowballStemmer\n",
        "from nltk import word_tokenize\n",
        "from nltk import pos_tag\n",
        "from nltk.corpus import wordnet\n",
        "from nltk.stem import WordNetLemmatizer\n",
        "from textblob import TextBlob"
      ]
    },
    {
      "cell_type": "markdown",
      "metadata": {
        "id": "gLWu0f-ZgdTR"
      },
      "source": [
        "**Remove user name, links, symbols, spam and numbers**"
      ]
    },
    {
      "cell_type": "code",
      "execution_count": null,
      "metadata": {
        "id": "SdqcCWoigdTc"
      },
      "outputs": [],
      "source": [
        "def clean_tweets(tweet):\n",
        "    #Removes usernames\n",
        "    tweet = re.sub('@[^\\s]+','',tweet)\n",
        "    #Removes links\n",
        "    tweet = re.sub('http[^\\s]+','',tweet)\n",
        "    #Removes numbers\n",
        "    tweet = re.sub(r'\\d+','',tweet)\n",
        "    #Removes special characters\n",
        "    tweet = re.sub('[^a-zA-Z0-9\\s]+','',tweet)\n",
        "    return tweet\n",
        "\n",
        "df['cleaned tweet'] = df['OriginalTweet'].apply(clean_tweets)"
      ]
    },
    {
      "cell_type": "markdown",
      "metadata": {
        "id": "QlH4R3L-nvWB"
      },
      "source": [
        "**Expanding Contractions**"
      ]
    },
    {
      "cell_type": "markdown",
      "metadata": {
        "id": "u7ARlhQdsDgH"
      },
      "source": [
        "Contraction is an abbreviated form of a word, like don't stand for do not. This contraction in the text data needs to be expanded for better analysis. It will match the word with the keys, and if it exists it will replace the word with its value.\n"
      ]
    },
    {
      "cell_type": "code",
      "execution_count": null,
      "metadata": {
        "id": "vJeV6gIzgdTd"
      },
      "outputs": [],
      "source": [
        "#Installing contractions  \n",
        "!pip install contractions\n",
        "!{sys.executable} -m pip install contractions\n",
        "import contractions"
      ]
    },
    {
      "cell_type": "code",
      "execution_count": null,
      "metadata": {
        "id": "xUtMTQNkgdTe"
      },
      "outputs": [],
      "source": [
        "def contractions_remover(text):\n",
        "  '''Tis function fixes contractions'''\n",
        "# creating an empty list\n",
        "  expanded_words = []    \n",
        "  for word in text.split():\n",
        "    # using contractions.fix to expand the shotened words\n",
        "    expanded_words.append(contractions.fix(word))   \n",
        "  #joining words    \n",
        "  expanded_text = ' '.join(expanded_words)\n",
        "  return expanded_text\n",
        "#Applying the function contraction remover on the column cleaned tweet\n",
        "df[\"cleaned tweet\"] = df[\"cleaned tweet\"].apply(contractions_remover)"
      ]
    },
    {
      "cell_type": "markdown",
      "metadata": {
        "id": "WV_CHLYFgdTf"
      },
      "source": [
        "**Remove punctuation and stopwords**"
      ]
    },
    {
      "cell_type": "markdown",
      "metadata": {
        "id": "LMzFjijuJJJd"
      },
      "source": [
        "Stopwords are those commonly used words that are often added to sentences to make them grammatically correct.They do no add any value to our analysis as these words carry less or no meaning as far as churning out information about the sentiment is concerned"
      ]
    },
    {
      "cell_type": "code",
      "execution_count": null,
      "metadata": {
        "id": "zsj2rnZkgdTf"
      },
      "outputs": [],
      "source": [
        "#Downloading stopwords\n",
        "nltk.download('stopwords')"
      ]
    },
    {
      "cell_type": "code",
      "execution_count": null,
      "metadata": {
        "id": "ndjDoZvvgdTg"
      },
      "outputs": [],
      "source": [
        "#Stpring the set of stopwords in Enlish\n",
        "stop_words = set(stopwords.words('english'))\n",
        "print(\"The stop words in English are\",stop_words)\n",
        "#Creating a whitelist of stopwords we need to keep as they affect the sentiment\n",
        "whitelist = [\"n't\", \"not\", \"no\" , \"nor\" , \"couldn't\" , \"wouldn't\" ,\"isn't\" , \"haven't\" , \"wasn't\" , \"didn't\" , \"hasn't\" , \"shouldn't\" , \"doesn't\" , \"weren't\" ,\n",
        "              \"aren't\"]\n",
        "#Creating a list of stopwords which doesnot contain our whitelist              \n",
        "stops=[item for item in stop_words if item not in whitelist]\n",
        "print(\"The required stopwords are\",stops)"
      ]
    },
    {
      "cell_type": "code",
      "execution_count": null,
      "metadata": {
        "id": "w3pKRJUfgdTg"
      },
      "outputs": [],
      "source": [
        "def text_process(msg):\n",
        "    '''This function removes punctuations and stopwords from sentences'''\n",
        "    #Storing characters other than punctuations from sentences\n",
        "    nopunc =[char for char in msg if char not in string.punctuation]\n",
        "    nopunc=''.join(nopunc)\n",
        "    #Creating a list of all the words that are not stopwords or are present in whitelist and then joining them to return a sentence\n",
        "    return ' '.join([word.lower() for word in nopunc.split() if word.lower() not in stops])"
      ]
    },
    {
      "cell_type": "code",
      "execution_count": null,
      "metadata": {
        "id": "Tor5lq5JgdTg"
      },
      "outputs": [],
      "source": [
        "#Applying the function text_process on the column cleaned tweet\n",
        "df['cleaned tweet'] = df['cleaned tweet'].apply(text_process)"
      ]
    },
    {
      "cell_type": "markdown",
      "metadata": {
        "id": "N3PVgwvsYmzP"
      },
      "source": [
        "##**Lemmatization**"
      ]
    },
    {
      "cell_type": "markdown",
      "metadata": {
        "id": "9a_wCo9nxr9x"
      },
      "source": [
        "#### A method that switches any kind of a word to its base root mode is called Lemmatization. It will help us to diminish the number of tokens and hence boost up the entire method\n",
        "\n",
        " "
      ]
    },
    {
      "cell_type": "code",
      "execution_count": null,
      "metadata": {
        "id": "JftMnq60wwHl"
      },
      "outputs": [],
      "source": [
        "#Downloading packages for Lemmatization\n",
        "nltk.download('wordnet')\n",
        "\n",
        "from nltk import word_tokenize\n",
        "nltk.download('punkt')\n",
        "\n",
        "from nltk import pos_tag\n",
        "nltk.download('averaged_perceptron_tagger')\n",
        "\n",
        "from nltk.corpus import wordnet\n",
        "from nltk.stem import WordNetLemmatizer "
      ]
    },
    {
      "cell_type": "code",
      "execution_count": null,
      "metadata": {
        "id": "l_k1KqIJJ5AL"
      },
      "outputs": [],
      "source": [
        "def get_wordnet_pos(word):\n",
        "    \"\"\"Map POS tag to first character lemmatize() accepts\"\"\"\n",
        "    tag = nltk.pos_tag([word])[0][1][0].upper()\n",
        "    tag_dict = {\"J\": wordnet.ADJ,\n",
        "                \"N\": wordnet.NOUN,\n",
        "                \"V\": wordnet.VERB,\n",
        "                \"R\": wordnet.ADV}\n",
        "\n",
        "    return tag_dict.get(tag, wordnet.NOUN)"
      ]
    },
    {
      "cell_type": "code",
      "execution_count": null,
      "metadata": {
        "id": "ux9THRVCwl6C"
      },
      "outputs": [],
      "source": [
        "lemmatizer = WordNetLemmatizer()\n",
        "\n",
        "def lemmatize_text(text):\n",
        "  word_list = word_tokenize(text)\n",
        "  lemmatized_string = ' '.join([lemmatizer.lemmatize(w , get_wordnet_pos(w)) for w in word_list])\n",
        "  return lemmatized_string"
      ]
    },
    {
      "cell_type": "code",
      "execution_count": null,
      "metadata": {
        "id": "QTqfZhHlc4_w"
      },
      "outputs": [],
      "source": [
        "df[\"lemmatized_tweet\"] = df[\"cleaned tweet\"].apply(lemmatize_text)"
      ]
    },
    {
      "cell_type": "code",
      "execution_count": null,
      "metadata": {
        "id": "NGxZrZu4dSto"
      },
      "outputs": [],
      "source": [
        "df[\"lemmatized_tweet\"][6]"
      ]
    },
    {
      "cell_type": "markdown",
      "metadata": {
        "id": "PCedMAW2qczt"
      },
      "source": [
        "##**Tweet Analysis**"
      ]
    },
    {
      "cell_type": "markdown",
      "metadata": {
        "id": "ENLMrZi2SabJ"
      },
      "source": [
        "####For visualization purpose, let's create word clouds with words in positive, negative and neutral tweets "
      ]
    },
    {
      "cell_type": "code",
      "execution_count": null,
      "metadata": {
        "id": "TGrrBUIhePLz"
      },
      "outputs": [],
      "source": [
        "from PIL import Image"
      ]
    },
    {
      "cell_type": "code",
      "execution_count": null,
      "metadata": {
        "id": "LHbl82xtk873"
      },
      "outputs": [],
      "source": [
        "def word_cloud(tweetSentiment):\n",
        "  import requests\n",
        "  \"Function to show wordcloud for any textual column\"\n",
        "\n",
        "  # storing words from all tweets\n",
        "  all_words = ' '.join([text for text in df['lemmatized_tweet'] ])\n",
        "\n",
        "  #Storing the url of the image that we will use to mask wordcloud\n",
        "  url = \"https://images2.imgbox.com/e0/3c/d7SAy9mI_o.png\"\n",
        "\n",
        "  img = Image.open(requests.get(url, stream=True).raw)\n",
        "\n",
        "  # converting PIL images into NumPy arrays\n",
        "  virusMask = np.array(img)\n",
        "\n",
        "  from wordcloud import WordCloud\n",
        "  wordcloud = WordCloud(width=2000, height=1000, max_font_size=200, \n",
        "                            background_color=\"white\", max_words=2000, mask = virusMask, \n",
        "                            contour_width=1, contour_color=\"steelblue\", \n",
        "                            colormap=\"nipy_spectral\").generate(all_words)\n",
        "\n",
        "  plt.figure(figsize=(13, 11))\n",
        "  plt.imshow(wordcloud, interpolation=\"bilinear\")\n",
        "  plt.axis('off')\n"
      ]
    },
    {
      "cell_type": "code",
      "execution_count": null,
      "metadata": {
        "id": "USf3SAIwqfeA"
      },
      "outputs": [],
      "source": [
        "#Creating subsets of the dataframe based on sentiment category Positive, Negative and Neutral\n",
        "positive=df[df[\"Sentiment\"]==\"Positive\"]\n",
        "negative=df[df[\"Sentiment\"]==\"Negative\"]\n",
        "neutral=df[df[\"Sentiment\"]==\"Neutral\"]"
      ]
    },
    {
      "cell_type": "code",
      "execution_count": null,
      "metadata": {
        "id": "3dw4DbnmqfeA"
      },
      "outputs": [],
      "source": [
        "#Creating a word cloud with words in positive tweets\n",
        "word_cloud(positive)\n",
        "plt.title(\"Positive Tweets WordCloud\", fontsize=17)\n",
        "plt.show()"
      ]
    },
    {
      "cell_type": "code",
      "execution_count": null,
      "metadata": {
        "id": "7yl4WbKUqfeB"
      },
      "outputs": [],
      "source": [
        "#Creating a word cloud with words in negative tweets\n",
        "word_cloud(negative)\n",
        "plt.title(\"Negative Tweets WordCloud\", fontsize=17)\n",
        "plt.show()"
      ]
    },
    {
      "cell_type": "code",
      "execution_count": null,
      "metadata": {
        "id": "JGqDbfekqfeB"
      },
      "outputs": [],
      "source": [
        "#Creating a word cloud with words in neutral tweets\n",
        "word_cloud(neutral)\n",
        "plt.title(\"Neutral Tweets WordCloud\", fontsize=17)\n",
        "plt.show()"
      ]
    },
    {
      "cell_type": "markdown",
      "metadata": {
        "id": "bGcHJAy9a-PO"
      },
      "source": [
        "####Now, let's try to analyze the most frequently used words in positive,negative and neutral tweets."
      ]
    },
    {
      "cell_type": "code",
      "execution_count": null,
      "metadata": {
        "id": "0Kxl72d8YVVv"
      },
      "outputs": [],
      "source": [
        "#Vectorization for Data Visualization\n",
        "def vectorization(table , col):\n",
        "\n",
        "    '''Function to calculate the number of each word from a given column of a dataframe'''\n",
        "    from sklearn.feature_extraction.text import CountVectorizer\n",
        "    vector = CountVectorizer()\n",
        "\n",
        "    frequency_matrix = vector.fit_transform(table[col])\n",
        "    sum_frequencies = np.sum(frequency_matrix, axis=0)\n",
        "\n",
        "    frequency = np.squeeze(np.asarray(sum_frequencies))\n",
        "    frequency_df = pd.DataFrame([frequency], columns=vector.get_feature_names_out()).transpose()\n",
        "    return frequency_df"
      ]
    },
    {
      "cell_type": "code",
      "execution_count": null,
      "metadata": {
        "id": "wKZdpF1ZnQeV"
      },
      "outputs": [],
      "source": [
        "def word_freq_map(dataframe):\n",
        "\n",
        "  dataframe.reset_index(inplace=True)\n",
        "  #Renaming the columns of our dataframe\n",
        "  dataframe.rename(columns = {'index': \"Word\" , 0 : \"Frequency\"} , inplace = True)\n",
        "\n",
        "  #Sorting our PosFrequency dataset by Frequency values so that we have the top 15 most frequent words present in tweets of positive sentiment\n",
        "  dataframe = dataframe.sort_values(by = \"Frequency\" , ascending = False )[:15]\n",
        "\n",
        "  sns.set(rc = {'figure.figsize':(15,8)})\n",
        "  sns.barplot(x=\"Word\" , y =\"Frequency\" , data = dataframe , palette = \"bright\")\n",
        "\n",
        "  plt.xticks(rotation=45)\n",
        "  plt.xlabel(\"Words\", fontsize=15)\n",
        "  plt.ylabel(\"Frequency\", fontsize=15)\n",
        "  "
      ]
    },
    {
      "cell_type": "code",
      "execution_count": null,
      "metadata": {
        "id": "0qqvSubKBr_L"
      },
      "outputs": [],
      "source": [
        "#Creating a subset of our main dataframe that will contain records of only positive sentiment and passing it into vectorization function\n",
        "Posfrequency_df = vectorization(positive, \"lemmatized_tweet\")\n",
        "plt.title(\"Most used words in positive tweets\", fontsize=17)\n",
        "word_freq_map(Posfrequency_df)\n",
        "plt.show()\n",
        "\n",
        "Negfrequency_df = vectorization(negative, \"lemmatized_tweet\")\n",
        "plt.title(\"Most used words in negative tweets\", fontsize=17)\n",
        "word_freq_map(Negfrequency_df)\n",
        "plt.show()\n",
        "\n",
        "Neutral_frequency_df = vectorization(neutral, \"lemmatized_tweet\")\n",
        "plt.title(\"Most used words in neutral tweets\", fontsize=17)\n",
        "word_freq_map(Neutral_frequency_df)\n",
        "plt.show()"
      ]
    },
    {
      "cell_type": "markdown",
      "metadata": {
        "id": "SUvrvPuseMsQ"
      },
      "source": [
        "#### 1. There are relatively more mentions of words like store, grocery in positive tweets as compared to negative tweets.\n",
        "#### 2. Panic is in list of top 15 words present in negative tweets but it is absent from the list of positive tweets whereas shopping is in list of top 15 words present in positive tweets but it is absent from top 15 words list of negative tweets"
      ]
    },
    {
      "cell_type": "code",
      "execution_count": null,
      "metadata": {
        "id": "3icJ2IAlRskl"
      },
      "outputs": [],
      "source": [
        "#Library for vectorization\n",
        "from sklearn.feature_extraction.text import TfidfVectorizer\n",
        "#Library for train test split\n",
        "from sklearn.model_selection import train_test_split\n",
        "\n",
        "#Libraries to import models\n",
        "from sklearn.naive_bayes import MultinomialNB\n",
        "from sklearn.linear_model import SGDClassifier\n",
        "from sklearn.linear_model import LogisticRegression\n",
        "from sklearn.svm import LinearSVC\n",
        "\n",
        "#Libraries for model evaluation\n",
        "from sklearn.metrics import confusion_matrix,classification_report,accuracy_score\n",
        "from sklearn.metrics import accuracy_score , precision_score, recall_score, f1_score\n",
        "\n",
        "#Library for crossvalidation and yperparameter tuning\n",
        "from sklearn.model_selection import GridSearchCV "
      ]
    },
    {
      "cell_type": "markdown",
      "metadata": {
        "id": "DxcOCvQO1sGA"
      },
      "source": [
        "##**Label encoding**"
      ]
    },
    {
      "cell_type": "markdown",
      "metadata": {
        "id": "GN6_J6zecQwE"
      },
      "source": [
        "\n",
        "####We will convert the target variable into numeric form by giving labels 1 for positive tweets, 0 for neutral tweets and -1 for negative tweets so as to convert them into the machine-readable form."
      ]
    },
    {
      "cell_type": "code",
      "execution_count": null,
      "metadata": {
        "id": "MZuRDAvqYRJr"
      },
      "outputs": [],
      "source": [
        "df.Sentiment.value_counts()"
      ]
    },
    {
      "cell_type": "code",
      "execution_count": null,
      "metadata": {
        "id": "5MvJbT6sGgG3"
      },
      "outputs": [],
      "source": [
        "#label encoding\n",
        "encoders_nums = {\"Sentiment\":{\"Positive\":1,\n",
        "                              \"Neutral\":0,\n",
        "                              \"Negative\":-1,}}        \n",
        "df = df.replace(encoders_nums)"
      ]
    },
    {
      "cell_type": "code",
      "execution_count": null,
      "metadata": {
        "id": "_-KS7rVfvxna"
      },
      "outputs": [],
      "source": [
        "df.head()"
      ]
    },
    {
      "cell_type": "markdown",
      "metadata": {
        "id": "47HGv-lKdpVe"
      },
      "source": [
        "##**TF-IDF Vectorization**"
      ]
    },
    {
      "cell_type": "markdown",
      "metadata": {
        "id": "FzYQiTeVcwkY"
      },
      "source": [
        "#### Inorder to convert the text data into machine readable form, we convert the words to corresponding vectors of real numbers with the help of TFIDF Vectorizer."
      ]
    },
    {
      "cell_type": "code",
      "execution_count": null,
      "metadata": {
        "id": "HbnBobFXFovL"
      },
      "outputs": [],
      "source": [
        "from sklearn.feature_extraction.text import TfidfVectorizer\n",
        "# create the object of Tfidf vectorizer \n",
        "vectorizer = TfidfVectorizer(max_df=.90,min_df=10)\n"
      ]
    },
    {
      "cell_type": "code",
      "execution_count": null,
      "metadata": {
        "id": "yt2Z6t9HwWYO"
      },
      "outputs": [],
      "source": [
        "#fit the vectorizer using the text data\n",
        "X = vectorizer.fit_transform(df[\"lemmatized_tweet\"]).toarray()\n",
        "y = df[\"Sentiment\"]"
      ]
    },
    {
      "cell_type": "markdown",
      "metadata": {
        "id": "EcRw92pFc0Hg"
      },
      "source": [
        "####Now, the dataset is ready for applying different classification models."
      ]
    },
    {
      "cell_type": "markdown",
      "metadata": {
        "id": "1XvEulLvSBPg"
      },
      "source": [
        "##**Training the model**"
      ]
    },
    {
      "cell_type": "markdown",
      "metadata": {
        "id": "z5sWVOEUdmfm"
      },
      "source": [
        "####We will split the dataset into train and test sets in 80:20 ratio."
      ]
    },
    {
      "cell_type": "code",
      "execution_count": null,
      "metadata": {
        "id": "n0kFql08xLYh"
      },
      "outputs": [],
      "source": [
        "#Performing train test split\n",
        "X_train,X_test,y_train,y_test = train_test_split(X,y,test_size=0.2, random_state=1,stratify=y)"
      ]
    },
    {
      "cell_type": "code",
      "execution_count": null,
      "metadata": {
        "id": "kMNDcMXLGW-J"
      },
      "outputs": [],
      "source": [
        "#Checking shape of the train set\n",
        "print(\"The shape of the train dataset is:\",X_train.shape)"
      ]
    },
    {
      "cell_type": "code",
      "execution_count": null,
      "metadata": {
        "id": "gTvG7UcpYJPp"
      },
      "outputs": [],
      "source": [
        "#Checking shape of the test set\n",
        "print(\"The shape of the test dataset is:\",X_test.shape)"
      ]
    },
    {
      "cell_type": "markdown",
      "metadata": {
        "id": "XNmhvUUELDxh"
      },
      "source": [
        "##**Evaluation**"
      ]
    },
    {
      "cell_type": "code",
      "execution_count": null,
      "metadata": {
        "id": "A4v5Z19_PrJ7"
      },
      "outputs": [],
      "source": [
        "def Improved_cf_multiclass(cf_matrix):\n",
        "  '''This function takes the confusion matrix as input and provides a labeled heatmap of the confusion matrix.'''\n",
        "  #Defining labels\n",
        "  group_names = [ \"True Neg\" ,\"False Neutral\" ,\"False Pos\" ,\"False Neg\",\"True Neutral\" ,\"False Pos\",\"False Neg\", \"False Neutral\" ,\"True Pos\"]\n",
        "  #Flattening the 3D array to one dimension\n",
        "  group_counts = [\"{0:0.0f}\".format(value) for value in cf_matrix.flatten()]\n",
        "  #Zipping curresponding label and value \n",
        "  labels = [f\"{v1}\\n{v2}\" for v1, v2 in zip(group_names,group_counts)]\n",
        "  #Reshaping back to 3D array\n",
        "  labels = np.asarray(labels).reshape(3,3)\n",
        "  \n",
        "  #Creating a heatmap for the given confusion matrix with labels created\n",
        "  ax = sns.heatmap(cf_matrix , annot=labels, fmt='', cmap='Blues')\n",
        "  #Set title, x-label and y-label\n",
        "  ax.set_title('Seaborn Confusion Matrix with labels\\n\\n');\n",
        "  ax.set_xlabel('\\nPredicted Values')\n",
        "  ax.set_ylabel('Actual Values ');\n",
        "  #Setting x-ticks and y-ticks\n",
        "  ax.xaxis.set_ticklabels(['-1','0',\"1\"])\n",
        "  ax.yaxis.set_ticklabels(['-1','0',\"1\"])\n",
        "  #show the heatmap\n",
        "  plt.show()\n"
      ]
    },
    {
      "cell_type": "code",
      "execution_count": null,
      "metadata": {
        "id": "Gj4-20icoQvp"
      },
      "outputs": [],
      "source": [
        "#Creating a list of evalation metrics\n",
        "scoring_list = [accuracy_score , precision_score, recall_score , f1_score]"
      ]
    },
    {
      "cell_type": "code",
      "execution_count": null,
      "metadata": {
        "id": "fQfNDGsToCep"
      },
      "outputs": [],
      "source": [
        "def classification_results(Y_true, Y_pred , scoring_list , average = None  ):\n",
        "\n",
        "  '''Function to evaluate our model after training using different types\n",
        "  of regression evaluation metrics and show all in a dataframe '''\n",
        "  #Creating a deafult dictionary\n",
        "  evaluation_dict = defaultdict(list)\n",
        "  \n",
        "  for count, scoring_metric in enumerate(scoring_list):\n",
        "    #Appending the scoring metric's names to the dictionary\n",
        "    evaluation_dict[\"scoring\"].append(scoring_metric.__name__)\n",
        "    \n",
        "    #For accuracy score average=None\n",
        "    if count == 0 or average is None:\n",
        "      metric_value = scoring_metric((Y_true), (Y_pred))\n",
        "    else:\n",
        "      #For other metrics average=average\n",
        "      metric_value = scoring_metric((Y_true), (Y_pred) , average = average )\n",
        "    \n",
        "    #Appending the value of the curresponding metric to the dictionary\n",
        "    evaluation_dict[\"Value\"].append('{:f}'.format(metric_value))\n",
        "  \n",
        "  #Creating a dataframe from the dictionary\n",
        "  evaluation_df = pd.DataFrame(evaluation_dict)\n",
        "  return evaluation_df"
      ]
    },
    {
      "cell_type": "markdown",
      "metadata": {
        "id": "A_aM7dAOZ5sj"
      },
      "source": [
        "##**Naive Bayes**"
      ]
    },
    {
      "cell_type": "markdown",
      "metadata": {
        "id": "OuN13FgqCtJt"
      },
      "source": [
        "####Here, we are using MultinomialNB as baseline model."
      ]
    },
    {
      "cell_type": "code",
      "execution_count": null,
      "metadata": {
        "id": "0J6KECNsZ5sj"
      },
      "outputs": [],
      "source": [
        "#Creating an instance of the model MultinomialNB\n",
        "model = MultinomialNB()\n",
        "#Fitting the model on the train dataset\n",
        "model.fit(X_train,y_train)\n",
        "\n",
        "#Making prediction on our train and test dataset\n",
        "nb_pred_train = model.predict(X_train)\n",
        "nb_pred_test = model.predict(X_test)\n",
        "\n",
        "#Storing train and test accuracy scores\n",
        "nb_train_accuracy=accuracy_score(y_train,nb_pred_train)\n",
        "nb_test_accuracy=accuracy_score(y_test,nb_pred_test)\n",
        "\n",
        "#printing train and test accuracy scores\n",
        "print(\"Training accuracy Score    : \", model.score(X_train,y_train))\n",
        "print(\"Test accuracy Score : \", nb_test_accuracy )\n",
        "\n",
        "#printing classification report for the performance of train and test set\n",
        "print(\"\\n\",\"Naive Bayes-Classification Report for train dataset\",\"\\n\")\n",
        "print(classification_report(y_train,nb_pred_train))\n",
        "print(\"Naive Bayes-Classification Report for test dataset\",\"\\n\")\n",
        "print(classification_report(y_test,nb_pred_test))"
      ]
    },
    {
      "cell_type": "markdown",
      "metadata": {
        "id": "YCjX91RgUSdn"
      },
      "source": [
        "####In the classification report we can notice that the recall value for neutral labels are very low which means that the model is performing bad when it comes to correctly classifying neutral labels as it is wrongly classifying them into positives and negative sentiment tweets"
      ]
    },
    {
      "cell_type": "code",
      "execution_count": null,
      "metadata": {
        "id": "nKBS3rd7YSYS"
      },
      "outputs": [],
      "source": [
        "#Evaluating performance of prediction on the test data using different evalation metrics\n",
        "naive_evaluation_df = classification_results(y_test,nb_pred_test, scoring_list , \"macro\" )\n",
        "print(\"Performance of Naive Bayes model on the test dataset is:\",'\\n')\n",
        "naive_evaluation_df"
      ]
    },
    {
      "cell_type": "markdown",
      "metadata": {
        "id": "fPOwgRufTUuo"
      },
      "source": [
        "#### We have got an accuracy score of 0.67 and all the other metrics scores below 0.68. \n",
        "#### Therefore, the performance of  Naive Bayes is poor in this case"
      ]
    },
    {
      "cell_type": "markdown",
      "metadata": {
        "id": "S1lP7PJyIRXh"
      },
      "source": [
        "##**Stochastic Gradient Descent Classifier**"
      ]
    },
    {
      "cell_type": "code",
      "execution_count": null,
      "metadata": {
        "id": "7jiFbzs5INWL"
      },
      "outputs": [],
      "source": [
        "#Creating an instance of the model Stochastic Gradient Descent-SGD Classifier\n",
        "sgd_clf = SGDClassifier(loss = 'hinge', penalty = 'l2', random_state=0)\n",
        "#Fitting the model on the train dataset\n",
        "sgd_clf.fit(X_train,y_train)\n",
        "\n",
        "#Making prediction on our train and test dataset\n",
        "sgd_train_pred = sgd_clf.predict(X_train)\n",
        "sgd_test_pred = sgd_clf.predict(X_test)\n",
        "\n",
        "#Storing train and test accuracy scores\n",
        "sgd_train_accuracy = accuracy_score(y_train,sgd_train_pred)\n",
        "sgd_test_accuracy = accuracy_score(y_test,sgd_test_pred)\n",
        "\n",
        "#printing train and test accuracy scores\n",
        "print(\"Training accuracy Score    : \",sgd_clf.score(X_train,y_train))\n",
        "print(\"Test accuracy Score : \",sgd_test_accuracy )\n",
        "\n",
        "#printing classification report for the performance of train and test set\n",
        "print(\"\\n\",\"SGD-Classification Report for train dataset\",\"\\n\")\n",
        "print(classification_report(sgd_train_pred,y_train))\n",
        "print(\"SGD-Classification Report for test dataset\",\"\\n\")\n",
        "print(classification_report(sgd_test_pred,y_test))"
      ]
    },
    {
      "cell_type": "code",
      "execution_count": null,
      "metadata": {
        "id": "CH2Zd-_kMP7F"
      },
      "outputs": [],
      "source": [
        "#Evaluating performance of prediction on the test data using different evalation metrics\n",
        "sgd_evaluation_df = classification_results(y_test,sgd_test_pred, scoring_list , \"macro\" )\n",
        "print(\"Performance of SGD Classifier model on the test dataset is:\",'\\n')\n",
        "sgd_evaluation_df"
      ]
    },
    {
      "cell_type": "markdown",
      "metadata": {
        "id": "m8VTCV91UqRp"
      },
      "source": [
        "####SGD Classifier gives better score as compared to Naive Bayes and is found to perform well in the classification"
      ]
    },
    {
      "cell_type": "markdown",
      "metadata": {
        "id": "4hQ6ya2Nf5L-"
      },
      "source": [
        "##**CatBoost** "
      ]
    },
    {
      "cell_type": "code",
      "execution_count": null,
      "metadata": {
        "id": "VK4ls0BSk7fp"
      },
      "outputs": [],
      "source": [
        "#Installing catboost\n",
        "!pip install catboost\n",
        "!pip install ipywidgets\n",
        "!jupyter nbextension enable --py widgetsnbextension\n",
        "from catboost import CatBoostClassifier, Pool, cv"
      ]
    },
    {
      "cell_type": "code",
      "execution_count": null,
      "metadata": {
        "id": "RX_eoPj5f34t"
      },
      "outputs": [],
      "source": [
        "#Creating an instance of the model CatBoostClassifier\n",
        "catboost = CatBoostClassifier()\n",
        "#Fitting the model on the train dataset\n",
        "catboost.fit(X_train, y_train,  eval_set=(X_test, y_test), verbose=False)\n",
        "\n",
        "#Making prediction on our train and test dataset\n",
        "catboost_train_pred = catboost.predict(X_train)\n",
        "catboost_test_pred = catboost.predict(X_test)\n",
        "\n",
        "#Storing train and test accuracy scores\n",
        "catboost_train_accuracy = accuracy_score(y_train,catboost_train_pred)\n",
        "catboost_test_accuracy = accuracy_score(y_test,catboost_test_pred)\n",
        "\n",
        "#printing train and test accuracy scores\n",
        "print(\"Training accuracy Score    : \",catboost.score(X_train,y_train))\n",
        "print(\"Test accuracy Score : \",catboost_test_accuracy )\n",
        "\n",
        "#printing classification report for the performance of train and test set\n",
        "print(\"\\n\",\"CatBoost-Classification Report for train dataset\",\"\\n\")\n",
        "print(classification_report(catboost_train_pred,y_train))\n",
        "print(\"CatBoost-Classification Report for test dataset\",\"\\n\")\n",
        "print(classification_report(catboost_test_pred,y_test))"
      ]
    },
    {
      "cell_type": "code",
      "execution_count": null,
      "metadata": {
        "id": "CDF4H1KyLkyD"
      },
      "outputs": [],
      "source": [
        "#Evaluating performance of prediction on the test data using different evalation metrics\n",
        "catboost_evaluation_df = classification_results(y_test,catboost_test_pred, scoring_list , \"macro\" )\n",
        "print(\"Performance of CatBoost classifier on the test dataset is:\",'\\n')\n",
        "catboost_evaluation_df"
      ]
    },
    {
      "cell_type": "markdown",
      "metadata": {
        "id": "ONvpn0P6Zmi8"
      },
      "source": [
        "####Scores of CatBoost model are also found to be good. "
      ]
    },
    {
      "cell_type": "markdown",
      "metadata": {
        "id": "to6Yup8Y_3Ng"
      },
      "source": [
        "##**Logistic Regression**"
      ]
    },
    {
      "cell_type": "code",
      "execution_count": null,
      "metadata": {
        "id": "S5VrQ1Wo8Zgx"
      },
      "outputs": [],
      "source": [
        "#Creating an instance of the model LogisticRegression\n",
        "logreg = LogisticRegression()\n",
        "#Fitting the model on the train dataset\n",
        "logreg.fit(X_train, y_train)\n",
        "\n",
        "#Making prediction on our train and test dataset\n",
        "logreg_pred_train = logreg.predict(X_train)\n",
        "logreg_pred_test = logreg.predict(X_test)\n",
        "\n",
        "#Storing train and test accuracy scores\n",
        "logreg_train_accuracy = accuracy_score(y_train,logreg_pred_train)\n",
        "logreg_test_accuracy = accuracy_score(y_test,logreg_pred_test)\n",
        "\n",
        "#printing train and test accuracy scores\n",
        "print(\"Training accuracy Score    : \",logreg.score(X_train,y_train))\n",
        "print(\"Test accuracy Score : \",logreg_test_accuracy )\n",
        "\n",
        "#printing classification report for the performance of train and test set\n",
        "print(\"\\n\",\"LogisticRegression-Classification Report for train dataset\",\"\\n\")\n",
        "print(classification_report(logreg_pred_train,y_train))\n",
        "print(\"LogisticRegression-Classification Report for test dataset\",\"\\n\")\n",
        "print(classification_report(logreg_pred_test,y_test))"
      ]
    },
    {
      "cell_type": "code",
      "execution_count": null,
      "metadata": {
        "id": "A8FgJswxCq_j"
      },
      "outputs": [],
      "source": [
        "#Evaluating performance of prediction on the test data using different evalation metrics\n",
        "log_evaluation_df = classification_results(y_test,logreg_pred_test, scoring_list , \"macro\" )\n",
        "print(\"Performance of LogisticRegression on the test dataset is:\",'\\n')\n",
        "log_evaluation_df"
      ]
    },
    {
      "cell_type": "markdown",
      "metadata": {
        "id": "-7ULTFFOXvUi"
      },
      "source": [
        "##**SVM**"
      ]
    },
    {
      "cell_type": "code",
      "execution_count": null,
      "metadata": {
        "id": "CstqZtxpo0Xp"
      },
      "outputs": [],
      "source": [
        "#Creating an instance of the model LinearSVC\n",
        "SVC = LinearSVC()\n",
        "#Fitting the model on the train dataset\n",
        "SVC.fit(X_train, y_train)\n",
        "\n",
        "#Making prediction on our train and test dataset\n",
        "SVC_pred_train = SVC.predict(X_train)\n",
        "SVC_pred_test = SVC.predict(X_test)\n",
        "\n",
        "#Storing train and test accuracy scores\n",
        "SVC_train_accuracy = accuracy_score(y_train,SVC_pred_train)\n",
        "SVC_test_accuracy = accuracy_score(y_test,SVC_pred_test)\n",
        "\n",
        "#printing train and test accuracy scores\n",
        "print(\"Training accuracy Score    : \",SVC.score(X_train,y_train))\n",
        "print(\"Test accuracy Score : \",SVC_test_accuracy )\n",
        "\n",
        "#printing classification report for the performance of train and test set\n",
        "print(\"\\n\",\"LinearSVC-Classification Report for train dataset\",\"\\n\")\n",
        "print(classification_report(SVC_pred_train,y_train))\n",
        "print(\"LinearSVC-Classification Report for test dataset\",\"\\n\")\n",
        "print(classification_report(SVC_pred_test,y_test))"
      ]
    },
    {
      "cell_type": "code",
      "execution_count": null,
      "metadata": {
        "id": "f9MGsQarL1yo"
      },
      "outputs": [],
      "source": [
        "#Evaluating performance of prediction on the test data using different evalation metrics\n",
        "SVC_evaluation_df = classification_results(y_test,SVC_pred_test, scoring_list , \"macro\" )\n",
        "print(\"Performance of LinearSVC model on the test dataset is:\",'\\n')\n",
        "SVC_evaluation_df"
      ]
    },
    {
      "cell_type": "markdown",
      "metadata": {
        "id": "QtIftKGdVvnq"
      },
      "source": [
        "####Accuracy score of SVM is 0.818 which is slightly higher than logistic regression and the best one among all the models.\n"
      ]
    },
    {
      "cell_type": "markdown",
      "metadata": {
        "id": "008mcsIB_eJl"
      },
      "source": [
        "##**Comparison dataframe for all the models**"
      ]
    },
    {
      "cell_type": "code",
      "execution_count": null,
      "metadata": {
        "id": "K7jpyizMNkdX"
      },
      "outputs": [],
      "source": [
        "#Creating a comparison dataframe for all te models containing train and test accuracy \n",
        "models = pd.DataFrame({'Model': ['Naive Bayes', 'CatBoost', \"Stochastic Gradient Decent\",\"Logistic Regression\",\"Support Vector Machine\"],\n",
        "    'Train accuracy': [nb_train_accuracy, catboost_train_accuracy, sgd_train_accuracy, logreg_train_accuracy, SVC_train_accuracy],\n",
        "    'Test accuracy': [nb_test_accuracy, catboost_test_accuracy, sgd_test_accuracy, logreg_test_accuracy, SVC_test_accuracy]})\n",
        "#Sorting the dataframe based on test accuracy\n",
        "models.sort_values(by=\"Test accuracy\",ascending=False,inplace=True)"
      ]
    },
    {
      "cell_type": "code",
      "execution_count": null,
      "metadata": {
        "id": "Byosc2DIRw0h"
      },
      "outputs": [],
      "source": [
        "print(\"Comparison dataframe for all the models based on accuracy scores of train and test dataset is:\",\"\\n\")\n",
        "# Scores are rounded up to 2 decimals\n",
        "models.reset_index(inplace=True,drop=True)\n",
        "models.round(2)"
      ]
    },
    {
      "cell_type": "markdown",
      "metadata": {
        "id": "vTFunJHAs5ha"
      },
      "source": [
        "####Comparing the test accuracy score of all the models, SVM is found to be the best performing model in terms of accuracy."
      ]
    },
    {
      "cell_type": "markdown",
      "metadata": {
        "id": "D4fifo2RQJGE"
      },
      "source": [
        "##**Evaluation**"
      ]
    },
    {
      "cell_type": "code",
      "execution_count": null,
      "metadata": {
        "id": "N7Fu2ZEd4j79"
      },
      "outputs": [],
      "source": [
        "def evaluate_all_models(evaluation_dfs, model_names):\n",
        "\n",
        "  '''Function to create a dataframe containing the scores of different evaluation metrics\n",
        "    for different models'''\n",
        "\n",
        "  #Creating an empty list to store the transposed evaluation dfs\n",
        "  transposed_evaluation_df = []\n",
        "\n",
        "  #Transposing all the evaluation df that we have created till now and saving all of them in transposed_evaluation_df\n",
        "  for e_df in evaluation_dfs:\n",
        "    e_df = e_df.set_index(\"scoring\")\n",
        "    e_df.index.names = [None]\n",
        "    e_df = e_df.transpose()\n",
        "    transposed_evaluation_df.append(e_df)\n",
        "\n",
        "  #Concatenating all the individual transposed evaluation df into single df \n",
        "  all_model_evaluation_df = pd.concat(transposed_evaluation_df , axis = 0)\n",
        "  all_model_evaluation_df.insert(0 , \"Model_Name\" , model_names)\n",
        "  all_model_evaluation_df.reset_index( drop = True , inplace = True)\n",
        "  all_model_evaluation_df.sort_values(by='accuracy_score',ascending=False,inplace=True)\n",
        "\n",
        "  return all_model_evaluation_df "
      ]
    },
    {
      "cell_type": "code",
      "execution_count": null,
      "metadata": {
        "id": "Y8YcOLxpXHik"
      },
      "outputs": [],
      "source": [
        "#Creating a list of all the model names that we have evaluated till now\n",
        "model_names = [\"Naive Bayes\" , \"Logistic Regression\" ,  \"Stochastic Gradient Descent\" , \"Support Vector Machine\",\"CatBoost\"]\n",
        "\n",
        "#Creates a list of all evaluations dataframe made for different models\n",
        "evaluation_df = [ naive_evaluation_df , log_evaluation_df , sgd_evaluation_df , SVC_evaluation_df, catboost_evaluation_df ]\n"
      ]
    },
    {
      "cell_type": "code",
      "execution_count": null,
      "metadata": {
        "id": "0gMA8GbpcSQX"
      },
      "outputs": [],
      "source": [
        "#Calling the function 'evaluate_all_models' to get final comparison dataframe based on different evaluation metrics for all the models \n",
        "all_model_df = evaluate_all_models(evaluation_df, model_names)"
      ]
    },
    {
      "cell_type": "code",
      "execution_count": null,
      "metadata": {
        "id": "G352FiRp55Ie"
      },
      "outputs": [],
      "source": [
        "#Converting the datatype of scores from object to float \n",
        "all_model_df[['accuracy_score',\t'precision_score',\t'recall_score',\t'f1_score']]=all_model_df[['accuracy_score',\n",
        "                                            'precision_score','recall_score',\t'f1_score']].apply(lambda x:x.astype(str).astype(float))\n",
        "print(\"Comparison dataframe for all the models based on different evaluation metrics on the test dataset:\",\"\\n\")\n",
        "# Scores are rounded up to 2 decimals\n",
        "all_model_df.reset_index(inplace=True,drop=True)\n",
        "all_model_df.round(2)"
      ]
    },
    {
      "cell_type": "markdown",
      "metadata": {
        "id": "9Ske5FMIs_Zr"
      },
      "source": [
        "####Naive Bayes fails to perform well in the classification as its scores are low. All the other four models, SVM, CatBoost, Logistic Regression and SGD Classifier perform well with the mertics score in the range of 0.75-0.82.\n",
        "####Among these four models, SVM has the highest accuracy score. Its precision score, recall score and f1 score are also pretty good. So we conclude that SVM is the best performing model.\n",
        "####Let's do cross validation and hyperparameter tuning for the best model, SVM"
      ]
    },
    {
      "cell_type": "markdown",
      "metadata": {
        "id": "b1WLAYK7v9q1"
      },
      "source": [
        "##**Hyperparameter tuning and cross validation for best model-SVC**"
      ]
    },
    {
      "cell_type": "code",
      "execution_count": null,
      "metadata": {
        "id": "3cCuFfcWGzhi"
      },
      "outputs": [],
      "source": [
        "#Creating parameter dictionary for hyperparameter tuning\n",
        "param_dict = {\"dual\" : [False], \"penalty\" :  [\"l1\"], \"C\" : [0.4,0.55,0.75,1]}\n",
        "\n",
        "#Performing cross validation and hyperparameter tuning\n",
        "svc_grid = GridSearchCV(SVC, param_dict,n_jobs=2, cv=5, verbose = 10,scoring='accuracy') \n",
        "\n",
        "#Fitting the model on the train dataset\n",
        "svc_grid.fit(X_train,y_train)\n",
        "\n",
        "#Obtaining best parameters\n",
        "print(\"Best yperparameters for the LinearSVC Grid Model are:\",svc_grid.best_params_)\n",
        "\n",
        "#Making prediction on our train and test dataset\n",
        "svc_grid_pred_train = svc_grid.predict(X_train)\n",
        "svc_grid_pred_test = svc_grid.predict(X_test)\n",
        "\n",
        "#Storing train and test accuracy scores\n",
        "svc_grid_train_accuracy = accuracy_score(y_train, svc_grid_pred_train)\n",
        "svc_grid_test_accuracy = accuracy_score(y_test, svc_grid_pred_test)\n",
        "\n",
        "#printing train and test accuracy scores\n",
        "print(\"Training accuracy Score   : \",svc_grid.score(X_train,y_train))\n",
        "print(\"Validation accuracy Score : \",svc_grid_test_accuracy )\n",
        "\n",
        "#printing classification report for the performance of train and test set\n",
        "print(\"\\n\",\"LinearSVC Grid Model-Classification Report for train dataset\",\"\\n\")\n",
        "print(classification_report(svc_grid_pred_train,y_train))\n",
        "print(\"LinearSVC Grid Model-Classification Report for test dataset\",\"\\n\")\n",
        "print(classification_report(svc_grid_pred_test,y_test))\n"
      ]
    },
    {
      "cell_type": "code",
      "execution_count": null,
      "metadata": {
        "id": "z8C1w1yWRBzo"
      },
      "outputs": [],
      "source": [
        "#Evaluating performance of prediction on the test data using different evalation metrics\n",
        "SVC_grid_evaluation_df = classification_results(y_test,svc_grid_pred_test, scoring_list , \"macro\" )\n",
        "print(\"Performance of LinearSVC Grid Model on the test dataset is:\",'\\n')\n",
        "SVC_grid_evaluation_df"
      ]
    },
    {
      "cell_type": "markdown",
      "metadata": {
        "id": "MLDSNT6wflZ5"
      },
      "source": [
        "####After cross validation and hyperparameter tuning, scores of SVC is found to be improved. "
      ]
    },
    {
      "cell_type": "markdown",
      "metadata": {
        "id": "KebwKgKZn62m"
      },
      "source": [
        "##**Confusion matrix for best model**\n"
      ]
    },
    {
      "cell_type": "code",
      "execution_count": null,
      "metadata": {
        "id": "aLdBHnIroOzn"
      },
      "outputs": [],
      "source": [
        "#Confusion matrix for the best model:LinearSVC Grid Model\n",
        "print(\"Confusion matrix for the best model-LinearSVC Grid is:\")\n",
        "Improved_cf_multiclass(confusion_matrix(y_test,svc_grid_pred_test) )"
      ]
    },
    {
      "cell_type": "markdown",
      "metadata": {
        "id": "quJn__Bxf1NT"
      },
      "source": [
        "##**Conclusion**\n",
        "####Thus we conclude our project on COVID 19 Tweet Sentiment Analysis. We started by analyzing the dataset to learn more about the variables involved. As a part of Exploratory Data Analysis, we tried to derive different patterns in the data. For building different classification models we used feature 'OriginalTweet' and the target variable 'Sentiment'. By performing tweet cleaning, Tokenization, Lemmatization and Vectorization, 'OriginalTweet' was prepared for modelling.\n",
        "####We applied 5 different classification models among which SVM is the best performing model. We did hyperparameter tuning for the best performing model to get an improved score.  Linear SVM with 85% accuracy performed well for multinomial classification."
      ]
    }
  ],
  "metadata": {
    "colab": {
      "collapsed_sections": [],
      "name": "Coronavirus Tweet Sentiment Analysis-Manjusree K C - Capstone Project.ipynb",
      "provenance": []
    },
    "kernelspec": {
      "display_name": "Python 3",
      "language": "python",
      "name": "python3"
    },
    "language_info": {
      "codemirror_mode": {
        "name": "ipython",
        "version": 3
      },
      "file_extension": ".py",
      "mimetype": "text/x-python",
      "name": "python",
      "nbconvert_exporter": "python",
      "pygments_lexer": "ipython3",
      "version": "3.6.6"
    }
  },
  "nbformat": 4,
  "nbformat_minor": 0
}